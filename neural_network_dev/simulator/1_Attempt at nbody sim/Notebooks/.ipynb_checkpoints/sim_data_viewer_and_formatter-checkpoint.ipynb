{
 "cells": [
  {
   "cell_type": "markdown",
   "metadata": {},
   "source": [
    "# Import Packages and Setup Environment"
   ]
  },
  {
   "cell_type": "code",
   "execution_count": 1,
   "metadata": {},
   "outputs": [],
   "source": [
    "import numpy as np\n",
    "import pandas as pd"
   ]
  },
  {
   "cell_type": "code",
   "execution_count": 2,
   "metadata": {},
   "outputs": [],
   "source": [
    "#Allow printing of large numpy arrays.\n",
    "# import sys\n",
    "# import numpy\n",
    "# numpy.set_printoptions(threshold=sys.maxsize)"
   ]
  },
  {
   "cell_type": "code",
   "execution_count": 3,
   "metadata": {},
   "outputs": [],
   "source": [
    "# Remove max columns and row limit on pandas\n",
    "pd.options.display.max_columns = None\n",
    "pd.options.display.max_rows = 50000"
   ]
  },
  {
   "cell_type": "markdown",
   "metadata": {},
   "source": [
    "# Read Position Data and Display for the Given Simulation Data"
   ]
  },
  {
   "cell_type": "code",
   "execution_count": 4,
   "metadata": {},
   "outputs": [],
   "source": [
    "# Read in the binary numpy files storing the acceleration, velocity, position, and mass for \n",
    "# every body at every time step.\n",
    "data_folder = \"data/\"\n",
    "\n",
    "a_raw = np.load(data_folder + \"a.npy\")\n",
    "v_raw = np.load(data_folder + \"v.npy\")\n",
    "x_raw = np.load(data_folder + \"x.npy\")\n",
    "m_raw = np.load(data_folder + \"m.npy\")"
   ]
  },
  {
   "cell_type": "code",
   "execution_count": 5,
   "metadata": {},
   "outputs": [
    {
     "data": {
      "text/plain": [
       "(692, 10, 2)"
      ]
     },
     "execution_count": 5,
     "metadata": {},
     "output_type": "execute_result"
    }
   ],
   "source": [
    "x_raw.shape"
   ]
  },
  {
   "cell_type": "markdown",
   "metadata": {},
   "source": [
    "## Attempt to Convert Position Data to Pandas Multi-Index Dataframe"
   ]
  },
  {
   "cell_type": "code",
   "execution_count": 6,
   "metadata": {},
   "outputs": [
    {
     "data": {
      "text/html": [
       "<div>\n",
       "<style scoped>\n",
       "    .dataframe tbody tr th:only-of-type {\n",
       "        vertical-align: middle;\n",
       "    }\n",
       "\n",
       "    .dataframe tbody tr th {\n",
       "        vertical-align: top;\n",
       "    }\n",
       "\n",
       "    .dataframe thead th {\n",
       "        text-align: right;\n",
       "    }\n",
       "</style>\n",
       "<table border=\"1\" class=\"dataframe\">\n",
       "  <thead>\n",
       "    <tr style=\"text-align: right;\">\n",
       "      <th></th>\n",
       "      <th></th>\n",
       "      <th>pos_x</th>\n",
       "      <th>pos_y</th>\n",
       "    </tr>\n",
       "    <tr>\n",
       "      <th>time_step</th>\n",
       "      <th>body</th>\n",
       "      <th></th>\n",
       "      <th></th>\n",
       "    </tr>\n",
       "  </thead>\n",
       "  <tbody>\n",
       "    <tr>\n",
       "      <th rowspan=\"10\" valign=\"top\">0.0</th>\n",
       "      <th>0.0</th>\n",
       "      <td>0.0</td>\n",
       "      <td>5.790000e+10</td>\n",
       "    </tr>\n",
       "    <tr>\n",
       "      <th>1.0</th>\n",
       "      <td>0.0</td>\n",
       "      <td>1.082000e+11</td>\n",
       "    </tr>\n",
       "    <tr>\n",
       "      <th>2.0</th>\n",
       "      <td>0.0</td>\n",
       "      <td>1.496000e+11</td>\n",
       "    </tr>\n",
       "    <tr>\n",
       "      <th>3.0</th>\n",
       "      <td>0.0</td>\n",
       "      <td>2.279000e+11</td>\n",
       "    </tr>\n",
       "    <tr>\n",
       "      <th>4.0</th>\n",
       "      <td>0.0</td>\n",
       "      <td>7.786000e+11</td>\n",
       "    </tr>\n",
       "    <tr>\n",
       "      <th>5.0</th>\n",
       "      <td>0.0</td>\n",
       "      <td>1.433500e+12</td>\n",
       "    </tr>\n",
       "    <tr>\n",
       "      <th>6.0</th>\n",
       "      <td>0.0</td>\n",
       "      <td>2.872500e+12</td>\n",
       "    </tr>\n",
       "    <tr>\n",
       "      <th>7.0</th>\n",
       "      <td>0.0</td>\n",
       "      <td>4.495100e+12</td>\n",
       "    </tr>\n",
       "    <tr>\n",
       "      <th>8.0</th>\n",
       "      <td>0.0</td>\n",
       "      <td>5.906400e+12</td>\n",
       "    </tr>\n",
       "    <tr>\n",
       "      <th>9.0</th>\n",
       "      <td>0.0</td>\n",
       "      <td>0.000000e+00</td>\n",
       "    </tr>\n",
       "    <tr>\n",
       "      <th rowspan=\"10\" valign=\"top\">1.0</th>\n",
       "      <th>0.0</th>\n",
       "      <td>-474000000.0</td>\n",
       "      <td>-6.628694e+27</td>\n",
       "    </tr>\n",
       "    <tr>\n",
       "      <th>1.0</th>\n",
       "      <td>-350000000.0</td>\n",
       "      <td>-6.628711e+27</td>\n",
       "    </tr>\n",
       "    <tr>\n",
       "      <th>2.0</th>\n",
       "      <td>-298000000.0</td>\n",
       "      <td>-6.628747e+27</td>\n",
       "    </tr>\n",
       "    <tr>\n",
       "      <th>3.0</th>\n",
       "      <td>-241000000.0</td>\n",
       "      <td>-6.628769e+27</td>\n",
       "    </tr>\n",
       "    <tr>\n",
       "      <th>4.0</th>\n",
       "      <td>-131000000.0</td>\n",
       "      <td>-6.635105e+27</td>\n",
       "    </tr>\n",
       "    <tr>\n",
       "      <th>5.0</th>\n",
       "      <td>-97000000.0</td>\n",
       "      <td>-6.643335e+27</td>\n",
       "    </tr>\n",
       "    <tr>\n",
       "      <th>6.0</th>\n",
       "      <td>-68000000.0</td>\n",
       "      <td>-6.645520e+27</td>\n",
       "    </tr>\n",
       "    <tr>\n",
       "      <th>7.0</th>\n",
       "      <td>-54000000.0</td>\n",
       "      <td>-6.646150e+27</td>\n",
       "    </tr>\n",
       "    <tr>\n",
       "      <th>8.0</th>\n",
       "      <td>-47000000.0</td>\n",
       "      <td>-6.646490e+27</td>\n",
       "    </tr>\n",
       "    <tr>\n",
       "      <th>9.0</th>\n",
       "      <td>0.0</td>\n",
       "      <td>8.898933e+24</td>\n",
       "    </tr>\n",
       "  </tbody>\n",
       "</table>\n",
       "</div>"
      ],
      "text/plain": [
       "                      pos_x         pos_y\n",
       "time_step body                           \n",
       "0.0       0.0           0.0  5.790000e+10\n",
       "          1.0           0.0  1.082000e+11\n",
       "          2.0           0.0  1.496000e+11\n",
       "          3.0           0.0  2.279000e+11\n",
       "          4.0           0.0  7.786000e+11\n",
       "          5.0           0.0  1.433500e+12\n",
       "          6.0           0.0  2.872500e+12\n",
       "          7.0           0.0  4.495100e+12\n",
       "          8.0           0.0  5.906400e+12\n",
       "          9.0           0.0  0.000000e+00\n",
       "1.0       0.0  -474000000.0 -6.628694e+27\n",
       "          1.0  -350000000.0 -6.628711e+27\n",
       "          2.0  -298000000.0 -6.628747e+27\n",
       "          3.0  -241000000.0 -6.628769e+27\n",
       "          4.0  -131000000.0 -6.635105e+27\n",
       "          5.0   -97000000.0 -6.643335e+27\n",
       "          6.0   -68000000.0 -6.645520e+27\n",
       "          7.0   -54000000.0 -6.646150e+27\n",
       "          8.0   -47000000.0 -6.646490e+27\n",
       "          9.0           0.0  8.898933e+24"
      ]
     },
     "execution_count": 6,
     "metadata": {},
     "output_type": "execute_result"
    }
   ],
   "source": [
    "# Get the size of each dimension in numpy array.\n",
    "# m-> the number of time steps in the simulation.\n",
    "# n-> the number of bodies in the simulation.\n",
    "# r-> number of dimensions in the vector holding the acceleration, displacement, etc.\n",
    "pos_m,pos_n,pos_r = x_raw.shape\n",
    "# Stack the XY or XYZ arrays of each body into columns, removing a dimension.\n",
    "# np.column_stack() -> takes a sequence of 1D arrays and stacks them as columns in a 2D matrix.\n",
    "# np.arange() provides evenly spaced values that repeat n times.  The new index.\n",
    "# \n",
    "pos_arr = np.column_stack(\n",
    "    (np.repeat(np.arange(pos_m),pos_n), \n",
    "     np.tile(np.arange(0,pos_n,1),pos_m), \n",
    "     x_raw.reshape(pos_m*pos_n,-1))\n",
    ")\n",
    "# Create dataframe from stacked column array.\n",
    "pos_df = pd.DataFrame(pos_arr)\n",
    "# Use df.groupby() to group by time step or planent and create MultiIndex for easy data referencing.\n",
    "pos_df = pos_df.groupby([0,1]).mean()\n",
    "pos_df.index.names = ['time_step', 'body']\n",
    "pos_df.columns = ['pos_x', 'pos_y']\n",
    "pos_df.head(20)"
   ]
  },
  {
   "cell_type": "markdown",
   "metadata": {},
   "source": [
    "## Attempt to Display Position Data on Bokeh Scatter Plot"
   ]
  },
  {
   "cell_type": "code",
   "execution_count": 7,
   "metadata": {},
   "outputs": [
    {
     "data": {
      "text/html": [
       "\n",
       "    <div class=\"bk-root\">\n",
       "        <a href=\"https://bokeh.org\" target=\"_blank\" class=\"bk-logo bk-logo-small bk-logo-notebook\"></a>\n",
       "        <span id=\"1001\">Loading BokehJS ...</span>\n",
       "    </div>"
      ]
     },
     "metadata": {},
     "output_type": "display_data"
    },
    {
     "data": {
      "application/javascript": [
       "\n",
       "(function(root) {\n",
       "  function now() {\n",
       "    return new Date();\n",
       "  }\n",
       "\n",
       "  var force = true;\n",
       "\n",
       "  if (typeof root._bokeh_onload_callbacks === \"undefined\" || force === true) {\n",
       "    root._bokeh_onload_callbacks = [];\n",
       "    root._bokeh_is_loading = undefined;\n",
       "  }\n",
       "\n",
       "  var JS_MIME_TYPE = 'application/javascript';\n",
       "  var HTML_MIME_TYPE = 'text/html';\n",
       "  var EXEC_MIME_TYPE = 'application/vnd.bokehjs_exec.v0+json';\n",
       "  var CLASS_NAME = 'output_bokeh rendered_html';\n",
       "\n",
       "  /**\n",
       "   * Render data to the DOM node\n",
       "   */\n",
       "  function render(props, node) {\n",
       "    var script = document.createElement(\"script\");\n",
       "    node.appendChild(script);\n",
       "  }\n",
       "\n",
       "  /**\n",
       "   * Handle when an output is cleared or removed\n",
       "   */\n",
       "  function handleClearOutput(event, handle) {\n",
       "    var cell = handle.cell;\n",
       "\n",
       "    var id = cell.output_area._bokeh_element_id;\n",
       "    var server_id = cell.output_area._bokeh_server_id;\n",
       "    // Clean up Bokeh references\n",
       "    if (id != null && id in Bokeh.index) {\n",
       "      Bokeh.index[id].model.document.clear();\n",
       "      delete Bokeh.index[id];\n",
       "    }\n",
       "\n",
       "    if (server_id !== undefined) {\n",
       "      // Clean up Bokeh references\n",
       "      var cmd = \"from bokeh.io.state import curstate; print(curstate().uuid_to_server['\" + server_id + \"'].get_sessions()[0].document.roots[0]._id)\";\n",
       "      cell.notebook.kernel.execute(cmd, {\n",
       "        iopub: {\n",
       "          output: function(msg) {\n",
       "            var id = msg.content.text.trim();\n",
       "            if (id in Bokeh.index) {\n",
       "              Bokeh.index[id].model.document.clear();\n",
       "              delete Bokeh.index[id];\n",
       "            }\n",
       "          }\n",
       "        }\n",
       "      });\n",
       "      // Destroy server and session\n",
       "      var cmd = \"import bokeh.io.notebook as ion; ion.destroy_server('\" + server_id + \"')\";\n",
       "      cell.notebook.kernel.execute(cmd);\n",
       "    }\n",
       "  }\n",
       "\n",
       "  /**\n",
       "   * Handle when a new output is added\n",
       "   */\n",
       "  function handleAddOutput(event, handle) {\n",
       "    var output_area = handle.output_area;\n",
       "    var output = handle.output;\n",
       "\n",
       "    // limit handleAddOutput to display_data with EXEC_MIME_TYPE content only\n",
       "    if ((output.output_type != \"display_data\") || (!output.data.hasOwnProperty(EXEC_MIME_TYPE))) {\n",
       "      return\n",
       "    }\n",
       "\n",
       "    var toinsert = output_area.element.find(\".\" + CLASS_NAME.split(' ')[0]);\n",
       "\n",
       "    if (output.metadata[EXEC_MIME_TYPE][\"id\"] !== undefined) {\n",
       "      toinsert[toinsert.length - 1].firstChild.textContent = output.data[JS_MIME_TYPE];\n",
       "      // store reference to embed id on output_area\n",
       "      output_area._bokeh_element_id = output.metadata[EXEC_MIME_TYPE][\"id\"];\n",
       "    }\n",
       "    if (output.metadata[EXEC_MIME_TYPE][\"server_id\"] !== undefined) {\n",
       "      var bk_div = document.createElement(\"div\");\n",
       "      bk_div.innerHTML = output.data[HTML_MIME_TYPE];\n",
       "      var script_attrs = bk_div.children[0].attributes;\n",
       "      for (var i = 0; i < script_attrs.length; i++) {\n",
       "        toinsert[toinsert.length - 1].firstChild.setAttribute(script_attrs[i].name, script_attrs[i].value);\n",
       "        toinsert[toinsert.length - 1].firstChild.textContent = bk_div.children[0].textContent\n",
       "      }\n",
       "      // store reference to server id on output_area\n",
       "      output_area._bokeh_server_id = output.metadata[EXEC_MIME_TYPE][\"server_id\"];\n",
       "    }\n",
       "  }\n",
       "\n",
       "  function register_renderer(events, OutputArea) {\n",
       "\n",
       "    function append_mime(data, metadata, element) {\n",
       "      // create a DOM node to render to\n",
       "      var toinsert = this.create_output_subarea(\n",
       "        metadata,\n",
       "        CLASS_NAME,\n",
       "        EXEC_MIME_TYPE\n",
       "      );\n",
       "      this.keyboard_manager.register_events(toinsert);\n",
       "      // Render to node\n",
       "      var props = {data: data, metadata: metadata[EXEC_MIME_TYPE]};\n",
       "      render(props, toinsert[toinsert.length - 1]);\n",
       "      element.append(toinsert);\n",
       "      return toinsert\n",
       "    }\n",
       "\n",
       "    /* Handle when an output is cleared or removed */\n",
       "    events.on('clear_output.CodeCell', handleClearOutput);\n",
       "    events.on('delete.Cell', handleClearOutput);\n",
       "\n",
       "    /* Handle when a new output is added */\n",
       "    events.on('output_added.OutputArea', handleAddOutput);\n",
       "\n",
       "    /**\n",
       "     * Register the mime type and append_mime function with output_area\n",
       "     */\n",
       "    OutputArea.prototype.register_mime_type(EXEC_MIME_TYPE, append_mime, {\n",
       "      /* Is output safe? */\n",
       "      safe: true,\n",
       "      /* Index of renderer in `output_area.display_order` */\n",
       "      index: 0\n",
       "    });\n",
       "  }\n",
       "\n",
       "  // register the mime type if in Jupyter Notebook environment and previously unregistered\n",
       "  if (root.Jupyter !== undefined) {\n",
       "    var events = require('base/js/events');\n",
       "    var OutputArea = require('notebook/js/outputarea').OutputArea;\n",
       "\n",
       "    if (OutputArea.prototype.mime_types().indexOf(EXEC_MIME_TYPE) == -1) {\n",
       "      register_renderer(events, OutputArea);\n",
       "    }\n",
       "  }\n",
       "\n",
       "  \n",
       "  if (typeof (root._bokeh_timeout) === \"undefined\" || force === true) {\n",
       "    root._bokeh_timeout = Date.now() + 5000;\n",
       "    root._bokeh_failed_load = false;\n",
       "  }\n",
       "\n",
       "  var NB_LOAD_WARNING = {'data': {'text/html':\n",
       "     \"<div style='background-color: #fdd'>\\n\"+\n",
       "     \"<p>\\n\"+\n",
       "     \"BokehJS does not appear to have successfully loaded. If loading BokehJS from CDN, this \\n\"+\n",
       "     \"may be due to a slow or bad network connection. Possible fixes:\\n\"+\n",
       "     \"</p>\\n\"+\n",
       "     \"<ul>\\n\"+\n",
       "     \"<li>re-rerun `output_notebook()` to attempt to load from CDN again, or</li>\\n\"+\n",
       "     \"<li>use INLINE resources instead, as so:</li>\\n\"+\n",
       "     \"</ul>\\n\"+\n",
       "     \"<code>\\n\"+\n",
       "     \"from bokeh.resources import INLINE\\n\"+\n",
       "     \"output_notebook(resources=INLINE)\\n\"+\n",
       "     \"</code>\\n\"+\n",
       "     \"</div>\"}};\n",
       "\n",
       "  function display_loaded() {\n",
       "    var el = document.getElementById(\"1001\");\n",
       "    if (el != null) {\n",
       "      el.textContent = \"BokehJS is loading...\";\n",
       "    }\n",
       "    if (root.Bokeh !== undefined) {\n",
       "      if (el != null) {\n",
       "        el.textContent = \"BokehJS \" + root.Bokeh.version + \" successfully loaded.\";\n",
       "      }\n",
       "    } else if (Date.now() < root._bokeh_timeout) {\n",
       "      setTimeout(display_loaded, 100)\n",
       "    }\n",
       "  }\n",
       "\n",
       "\n",
       "  function run_callbacks() {\n",
       "    try {\n",
       "      root._bokeh_onload_callbacks.forEach(function(callback) {\n",
       "        if (callback != null)\n",
       "          callback();\n",
       "      });\n",
       "    } finally {\n",
       "      delete root._bokeh_onload_callbacks\n",
       "    }\n",
       "    console.debug(\"Bokeh: all callbacks have finished\");\n",
       "  }\n",
       "\n",
       "  function load_libs(css_urls, js_urls, callback) {\n",
       "    if (css_urls == null) css_urls = [];\n",
       "    if (js_urls == null) js_urls = [];\n",
       "\n",
       "    root._bokeh_onload_callbacks.push(callback);\n",
       "    if (root._bokeh_is_loading > 0) {\n",
       "      console.debug(\"Bokeh: BokehJS is being loaded, scheduling callback at\", now());\n",
       "      return null;\n",
       "    }\n",
       "    if (js_urls == null || js_urls.length === 0) {\n",
       "      run_callbacks();\n",
       "      return null;\n",
       "    }\n",
       "    console.debug(\"Bokeh: BokehJS not loaded, scheduling load and callback at\", now());\n",
       "    root._bokeh_is_loading = css_urls.length + js_urls.length;\n",
       "\n",
       "    function on_load() {\n",
       "      root._bokeh_is_loading--;\n",
       "      if (root._bokeh_is_loading === 0) {\n",
       "        console.debug(\"Bokeh: all BokehJS libraries/stylesheets loaded\");\n",
       "        run_callbacks()\n",
       "      }\n",
       "    }\n",
       "\n",
       "    function on_error() {\n",
       "      console.error(\"failed to load \" + url);\n",
       "    }\n",
       "\n",
       "    for (var i = 0; i < css_urls.length; i++) {\n",
       "      var url = css_urls[i];\n",
       "      const element = document.createElement(\"link\");\n",
       "      element.onload = on_load;\n",
       "      element.onerror = on_error;\n",
       "      element.rel = \"stylesheet\";\n",
       "      element.type = \"text/css\";\n",
       "      element.href = url;\n",
       "      console.debug(\"Bokeh: injecting link tag for BokehJS stylesheet: \", url);\n",
       "      document.body.appendChild(element);\n",
       "    }\n",
       "\n",
       "    const hashes = {\"https://cdn.bokeh.org/bokeh/release/bokeh-2.1.1.min.js\": \"kLr4fYcqcSpbuI95brIH3vnnYCquzzSxHPU6XGQCIkQRGJwhg0StNbj1eegrHs12\", \"https://cdn.bokeh.org/bokeh/release/bokeh-widgets-2.1.1.min.js\": \"xIGPmVtaOm+z0BqfSOMn4lOR6ciex448GIKG4eE61LsAvmGj48XcMQZtKcE/UXZe\", \"https://cdn.bokeh.org/bokeh/release/bokeh-tables-2.1.1.min.js\": \"Dc9u1wF/0zApGIWoBbH77iWEHtdmkuYWG839Uzmv8y8yBLXebjO9ZnERsde5Ln/P\", \"https://cdn.bokeh.org/bokeh/release/bokeh-gl-2.1.1.min.js\": \"cT9JaBz7GiRXdENrJLZNSC6eMNF3nh3fa5fTF51Svp+ukxPdwcU5kGXGPBgDCa2j\"};\n",
       "\n",
       "    for (var i = 0; i < js_urls.length; i++) {\n",
       "      var url = js_urls[i];\n",
       "      var element = document.createElement('script');\n",
       "      element.onload = on_load;\n",
       "      element.onerror = on_error;\n",
       "      element.async = false;\n",
       "      element.src = url;\n",
       "      if (url in hashes) {\n",
       "        element.crossOrigin = \"anonymous\";\n",
       "        element.integrity = \"sha384-\" + hashes[url];\n",
       "      }\n",
       "      console.debug(\"Bokeh: injecting script tag for BokehJS library: \", url);\n",
       "      document.head.appendChild(element);\n",
       "    }\n",
       "  };\n",
       "\n",
       "  function inject_raw_css(css) {\n",
       "    const element = document.createElement(\"style\");\n",
       "    element.appendChild(document.createTextNode(css));\n",
       "    document.body.appendChild(element);\n",
       "  }\n",
       "\n",
       "  \n",
       "  var js_urls = [\"https://cdn.bokeh.org/bokeh/release/bokeh-2.1.1.min.js\", \"https://cdn.bokeh.org/bokeh/release/bokeh-widgets-2.1.1.min.js\", \"https://cdn.bokeh.org/bokeh/release/bokeh-tables-2.1.1.min.js\", \"https://cdn.bokeh.org/bokeh/release/bokeh-gl-2.1.1.min.js\"];\n",
       "  var css_urls = [];\n",
       "  \n",
       "\n",
       "  var inline_js = [\n",
       "    function(Bokeh) {\n",
       "      Bokeh.set_log_level(\"info\");\n",
       "    },\n",
       "    function(Bokeh) {\n",
       "    \n",
       "    \n",
       "    }\n",
       "  ];\n",
       "\n",
       "  function run_inline_js() {\n",
       "    \n",
       "    if (root.Bokeh !== undefined || force === true) {\n",
       "      \n",
       "    for (var i = 0; i < inline_js.length; i++) {\n",
       "      inline_js[i].call(root, root.Bokeh);\n",
       "    }\n",
       "    if (force === true) {\n",
       "        display_loaded();\n",
       "      }} else if (Date.now() < root._bokeh_timeout) {\n",
       "      setTimeout(run_inline_js, 100);\n",
       "    } else if (!root._bokeh_failed_load) {\n",
       "      console.log(\"Bokeh: BokehJS failed to load within specified timeout.\");\n",
       "      root._bokeh_failed_load = true;\n",
       "    } else if (force !== true) {\n",
       "      var cell = $(document.getElementById(\"1001\")).parents('.cell').data().cell;\n",
       "      cell.output_area.append_execute_result(NB_LOAD_WARNING)\n",
       "    }\n",
       "\n",
       "  }\n",
       "\n",
       "  if (root._bokeh_is_loading === 0) {\n",
       "    console.debug(\"Bokeh: BokehJS loaded, going straight to plotting\");\n",
       "    run_inline_js();\n",
       "  } else {\n",
       "    load_libs(css_urls, js_urls, function() {\n",
       "      console.debug(\"Bokeh: BokehJS plotting callback run at\", now());\n",
       "      run_inline_js();\n",
       "    });\n",
       "  }\n",
       "}(window));"
      ],
      "application/vnd.bokehjs_load.v0+json": "\n(function(root) {\n  function now() {\n    return new Date();\n  }\n\n  var force = true;\n\n  if (typeof root._bokeh_onload_callbacks === \"undefined\" || force === true) {\n    root._bokeh_onload_callbacks = [];\n    root._bokeh_is_loading = undefined;\n  }\n\n  \n\n  \n  if (typeof (root._bokeh_timeout) === \"undefined\" || force === true) {\n    root._bokeh_timeout = Date.now() + 5000;\n    root._bokeh_failed_load = false;\n  }\n\n  var NB_LOAD_WARNING = {'data': {'text/html':\n     \"<div style='background-color: #fdd'>\\n\"+\n     \"<p>\\n\"+\n     \"BokehJS does not appear to have successfully loaded. If loading BokehJS from CDN, this \\n\"+\n     \"may be due to a slow or bad network connection. Possible fixes:\\n\"+\n     \"</p>\\n\"+\n     \"<ul>\\n\"+\n     \"<li>re-rerun `output_notebook()` to attempt to load from CDN again, or</li>\\n\"+\n     \"<li>use INLINE resources instead, as so:</li>\\n\"+\n     \"</ul>\\n\"+\n     \"<code>\\n\"+\n     \"from bokeh.resources import INLINE\\n\"+\n     \"output_notebook(resources=INLINE)\\n\"+\n     \"</code>\\n\"+\n     \"</div>\"}};\n\n  function display_loaded() {\n    var el = document.getElementById(\"1001\");\n    if (el != null) {\n      el.textContent = \"BokehJS is loading...\";\n    }\n    if (root.Bokeh !== undefined) {\n      if (el != null) {\n        el.textContent = \"BokehJS \" + root.Bokeh.version + \" successfully loaded.\";\n      }\n    } else if (Date.now() < root._bokeh_timeout) {\n      setTimeout(display_loaded, 100)\n    }\n  }\n\n\n  function run_callbacks() {\n    try {\n      root._bokeh_onload_callbacks.forEach(function(callback) {\n        if (callback != null)\n          callback();\n      });\n    } finally {\n      delete root._bokeh_onload_callbacks\n    }\n    console.debug(\"Bokeh: all callbacks have finished\");\n  }\n\n  function load_libs(css_urls, js_urls, callback) {\n    if (css_urls == null) css_urls = [];\n    if (js_urls == null) js_urls = [];\n\n    root._bokeh_onload_callbacks.push(callback);\n    if (root._bokeh_is_loading > 0) {\n      console.debug(\"Bokeh: BokehJS is being loaded, scheduling callback at\", now());\n      return null;\n    }\n    if (js_urls == null || js_urls.length === 0) {\n      run_callbacks();\n      return null;\n    }\n    console.debug(\"Bokeh: BokehJS not loaded, scheduling load and callback at\", now());\n    root._bokeh_is_loading = css_urls.length + js_urls.length;\n\n    function on_load() {\n      root._bokeh_is_loading--;\n      if (root._bokeh_is_loading === 0) {\n        console.debug(\"Bokeh: all BokehJS libraries/stylesheets loaded\");\n        run_callbacks()\n      }\n    }\n\n    function on_error() {\n      console.error(\"failed to load \" + url);\n    }\n\n    for (var i = 0; i < css_urls.length; i++) {\n      var url = css_urls[i];\n      const element = document.createElement(\"link\");\n      element.onload = on_load;\n      element.onerror = on_error;\n      element.rel = \"stylesheet\";\n      element.type = \"text/css\";\n      element.href = url;\n      console.debug(\"Bokeh: injecting link tag for BokehJS stylesheet: \", url);\n      document.body.appendChild(element);\n    }\n\n    const hashes = {\"https://cdn.bokeh.org/bokeh/release/bokeh-2.1.1.min.js\": \"kLr4fYcqcSpbuI95brIH3vnnYCquzzSxHPU6XGQCIkQRGJwhg0StNbj1eegrHs12\", \"https://cdn.bokeh.org/bokeh/release/bokeh-widgets-2.1.1.min.js\": \"xIGPmVtaOm+z0BqfSOMn4lOR6ciex448GIKG4eE61LsAvmGj48XcMQZtKcE/UXZe\", \"https://cdn.bokeh.org/bokeh/release/bokeh-tables-2.1.1.min.js\": \"Dc9u1wF/0zApGIWoBbH77iWEHtdmkuYWG839Uzmv8y8yBLXebjO9ZnERsde5Ln/P\", \"https://cdn.bokeh.org/bokeh/release/bokeh-gl-2.1.1.min.js\": \"cT9JaBz7GiRXdENrJLZNSC6eMNF3nh3fa5fTF51Svp+ukxPdwcU5kGXGPBgDCa2j\"};\n\n    for (var i = 0; i < js_urls.length; i++) {\n      var url = js_urls[i];\n      var element = document.createElement('script');\n      element.onload = on_load;\n      element.onerror = on_error;\n      element.async = false;\n      element.src = url;\n      if (url in hashes) {\n        element.crossOrigin = \"anonymous\";\n        element.integrity = \"sha384-\" + hashes[url];\n      }\n      console.debug(\"Bokeh: injecting script tag for BokehJS library: \", url);\n      document.head.appendChild(element);\n    }\n  };\n\n  function inject_raw_css(css) {\n    const element = document.createElement(\"style\");\n    element.appendChild(document.createTextNode(css));\n    document.body.appendChild(element);\n  }\n\n  \n  var js_urls = [\"https://cdn.bokeh.org/bokeh/release/bokeh-2.1.1.min.js\", \"https://cdn.bokeh.org/bokeh/release/bokeh-widgets-2.1.1.min.js\", \"https://cdn.bokeh.org/bokeh/release/bokeh-tables-2.1.1.min.js\", \"https://cdn.bokeh.org/bokeh/release/bokeh-gl-2.1.1.min.js\"];\n  var css_urls = [];\n  \n\n  var inline_js = [\n    function(Bokeh) {\n      Bokeh.set_log_level(\"info\");\n    },\n    function(Bokeh) {\n    \n    \n    }\n  ];\n\n  function run_inline_js() {\n    \n    if (root.Bokeh !== undefined || force === true) {\n      \n    for (var i = 0; i < inline_js.length; i++) {\n      inline_js[i].call(root, root.Bokeh);\n    }\n    if (force === true) {\n        display_loaded();\n      }} else if (Date.now() < root._bokeh_timeout) {\n      setTimeout(run_inline_js, 100);\n    } else if (!root._bokeh_failed_load) {\n      console.log(\"Bokeh: BokehJS failed to load within specified timeout.\");\n      root._bokeh_failed_load = true;\n    } else if (force !== true) {\n      var cell = $(document.getElementById(\"1001\")).parents('.cell').data().cell;\n      cell.output_area.append_execute_result(NB_LOAD_WARNING)\n    }\n\n  }\n\n  if (root._bokeh_is_loading === 0) {\n    console.debug(\"Bokeh: BokehJS loaded, going straight to plotting\");\n    run_inline_js();\n  } else {\n    load_libs(css_urls, js_urls, function() {\n      console.debug(\"Bokeh: BokehJS plotting callback run at\", now());\n      run_inline_js();\n    });\n  }\n}(window));"
     },
     "metadata": {},
     "output_type": "display_data"
    }
   ],
   "source": [
    "# Bokeh and plotting related imports\n",
    "# Plotting Imports\n",
    "import bokeh.io\n",
    "bokeh.io.output_notebook()  # Set plot output to embed in notebook.\n",
    "import bokeh.layouts\n",
    "import bokeh.plotting\n",
    "# Other imports for multi-plot figures.\n",
    "from bokeh.io import output_file, show\n",
    "from bokeh.layouts import column\n",
    "from bokeh.plotting import figure"
   ]
  },
  {
   "cell_type": "markdown",
   "metadata": {},
   "source": [
    "Need to create lists of numpy arrays that contain each body's position over time. \\\n",
    "List of arrays containing the positions of all bodies going back in time. = [bod1(x1, x2, x3, etc),(),()]"
   ]
  },
  {
   "cell_type": "code",
   "execution_count": 8,
   "metadata": {},
   "outputs": [
    {
     "data": {
      "text/plain": [
       "pos_x    0.000000e+00\n",
       "pos_y    1.082000e+11\n",
       "Name: (0.0, 1.0), dtype: float64"
      ]
     },
     "execution_count": 8,
     "metadata": {},
     "output_type": "execute_result"
    }
   ],
   "source": [
    "# Example of navigating Pandas MultiIndex to get X,Y position data.\n",
    "pos_df.loc[0,1]"
   ]
  },
  {
   "cell_type": "code",
   "execution_count": 9,
   "metadata": {},
   "outputs": [
    {
     "data": {
      "text/plain": [
       "2"
      ]
     },
     "execution_count": 9,
     "metadata": {},
     "output_type": "execute_result"
    }
   ],
   "source": [
    "# For shits and giggles.  Seeing how many indexing levels there are currently.\n",
    "pos_df.index.nlevels"
   ]
  },
  {
   "cell_type": "markdown",
   "metadata": {},
   "source": [
    "How to index a Pandas dataframe with a multi-index.\n",
    "https://pandas.pydata.org/pandas-docs/stable/user_guide/advanced.html\n",
    "Great Stackoverflow summary on MultiIndex. https://stackoverflow.com/questions/53927460/select-rows-in-pandas-multiindex-dataframe"
   ]
  },
  {
   "cell_type": "code",
   "execution_count": 10,
   "metadata": {},
   "outputs": [
    {
     "data": {
      "text/plain": [
       "0.0"
      ]
     },
     "execution_count": 10,
     "metadata": {},
     "output_type": "execute_result"
    }
   ],
   "source": [
    "# Indexing to a specific column after navigating through the multiindex.\n",
    "pos_df.loc[(0,1), 'pos_x']"
   ]
  },
  {
   "cell_type": "code",
   "execution_count": 11,
   "metadata": {},
   "outputs": [
    {
     "data": {
      "text/plain": [
       "time_step  body\n",
       "0.0        0.0     0.000000e+00\n",
       "1.0        0.0    -4.740000e+08\n",
       "2.0        0.0     1.182141e+09\n",
       "3.0        0.0    -6.403208e+27\n",
       "4.0        0.0    -2.321858e+27\n",
       "5.0        0.0     1.223885e+28\n",
       "6.0        0.0     1.631660e+28\n",
       "7.0        0.0     9.909690e+27\n",
       "8.0        0.0    -6.983008e+27\n",
       "9.0        0.0    -1.339369e+28\n",
       "10.0       0.0    -9.318840e+27\n",
       "Name: pos_x, dtype: float64"
      ]
     },
     "execution_count": 11,
     "metadata": {},
     "output_type": "execute_result"
    }
   ],
   "source": [
    "# Use slicing to get all time steps for each body.\n",
    "idx = pd.IndexSlice  # Need to create something called an indexer to kind of wrap the slice() function and make slicing easier.\n",
    "test_slice = pos_df.loc[idx[0:10, 0], 'pos_x']\n",
    "test_slice"
   ]
  },
  {
   "cell_type": "code",
   "execution_count": 12,
   "metadata": {},
   "outputs": [
    {
     "data": {
      "text/plain": [
       "array([ 0.00000000e+00, -4.74000000e+08,  1.18214103e+09, -6.40320767e+27,\n",
       "       -2.32185833e+27,  1.22388506e+28,  1.63166044e+28,  9.90968969e+27,\n",
       "       -6.98300832e+27, -1.33936921e+28, -9.31884025e+27])"
      ]
     },
     "execution_count": 12,
     "metadata": {},
     "output_type": "execute_result"
    }
   ],
   "source": [
    "# Shits and giggles.  Testing conversion of slice to numpy array.\n",
    "test_slice.values"
   ]
  },
  {
   "cell_type": "markdown",
   "metadata": {},
   "source": [
    "The above was mostly getting used to using MultiIndex Pandas dataframes.  Now trying to create the list of arrays that will be used for plotting paths of each body."
   ]
  },
  {
   "cell_type": "code",
   "execution_count": 13,
   "metadata": {},
   "outputs": [],
   "source": [
    "# Indexer to help with slicing dataframe.\n",
    "idx = pd.IndexSlice\n",
    "# List of bodies for each dimension whose elements are numpy arrays going back in time.  \n",
    "# Each element is a time series for that body and that body's dimension.\n",
    "pos_x_list = []\n",
    "pos_y_list = []\n",
    "# Group by level 1 to get the index of every body in the system.  Level 0 is the time step index.\n",
    "# Index will represent the body number we are currently extracting the position time series for.\n",
    "# Use slicing to get the position values for all time steps in a specified dimensions and save\n",
    "# to the list of numpy arrays for that dimension.\n",
    "for index, data in pos_df.groupby(level=1):\n",
    "    # Get slice of data to create time series of position values\n",
    "    # Use .to_numpy() to convert to numpy array\n",
    "    temp_x_time_series = pos_df.loc[idx[:, index], 'pos_x'].to_numpy()\n",
    "    temp_y_time_series = pos_df.loc[idx[:, index], 'pos_y'].to_numpy()\n",
    "    # Add time series to respective dimension.\n",
    "    pos_x_list.append(temp_x_time_series)\n",
    "    pos_y_list.append(temp_y_time_series)\n",
    "    \n",
    "# At this point, we now have a list of bodies for each position dimension that contains a time series \n",
    "# for that dimension and each body."
   ]
  },
  {
   "cell_type": "markdown",
   "metadata": {},
   "source": [
    "### Plotting"
   ]
  },
  {
   "cell_type": "markdown",
   "metadata": {},
   "source": [
    "Create functions to plot these lists of body time series"
   ]
  },
  {
   "cell_type": "code",
   "execution_count": 14,
   "metadata": {},
   "outputs": [],
   "source": [
    "from bokeh.palettes import Turbo256 as palette\n",
    "import itertools\n",
    "from random import randint\n",
    "\n",
    "def plot_2D_body_time_series(pos_x_list, pos_y_list, plot_width, plot_height, title):\n",
    "    \"\"\"\n",
    "    Accepts lists for x and y dimensions whose elements are time series data and whose\n",
    "    index represents the number of the body in the simulation.\n",
    "    \n",
    "    returns Bokeh figure to plot.\n",
    "    \"\"\"\n",
    "    # Create Bokeh figure to add plots to\n",
    "    f = bokeh.plotting.figure(\n",
    "        title = title,\n",
    "        plot_width = plot_width,\n",
    "        plot_height = plot_height\n",
    "    )\n",
    "\n",
    "    # Generate line for each body.\n",
    "    # Randomly select color from palette using randint\n",
    "    for i in range(0,len(pos_x_list)):\n",
    "        f.line(\n",
    "            pos_x_list[i],\n",
    "            pos_y_list[i],\n",
    "            line_width = 1,\n",
    "            color = palette[randint(0,255)],\n",
    "            legend_label = str(i)\n",
    "        )\n",
    "    f.legend.location = 'top_left'\n",
    "    return f"
   ]
  },
  {
   "cell_type": "code",
   "execution_count": 16,
   "metadata": {},
   "outputs": [
    {
     "data": {
      "text/html": [
       "\n",
       "\n",
       "\n",
       "\n",
       "\n",
       "\n",
       "  <div class=\"bk-root\" id=\"df901c3f-c922-4ea8-9909-af4ba59725cb\" data-root-id=\"1096\"></div>\n"
      ]
     },
     "metadata": {},
     "output_type": "display_data"
    },
    {
     "data": {
      "application/javascript": [
       "(function(root) {\n",
       "  function embed_document(root) {\n",
       "    \n",
       "  var docs_json = {\"ce42d610-10cd-416f-94b1-74be1a7f5630\":{\"roots\":{\"references\":[{\"attributes\":{\"below\":[{\"id\":\"1107\"}],\"center\":[{\"id\":\"1110\"},{\"id\":\"1114\"}],\"left\":[{\"id\":\"1111\"}],\"plot_height\":800,\"plot_width\":800,\"renderers\":[{\"id\":\"1132\"},{\"id\":\"1137\"},{\"id\":\"1142\"},{\"id\":\"1147\"},{\"id\":\"1152\"},{\"id\":\"1157\"},{\"id\":\"1162\"},{\"id\":\"1167\"},{\"id\":\"1172\"},{\"id\":\"1177\"}],\"title\":{\"id\":\"1097\"},\"toolbar\":{\"id\":\"1122\"},\"x_range\":{\"id\":\"1099\"},\"x_scale\":{\"id\":\"1103\"},\"y_range\":{\"id\":\"1101\"},\"y_scale\":{\"id\":\"1105\"}},\"id\":\"1096\",\"subtype\":\"Figure\",\"type\":\"Plot\"},{\"attributes\":{},\"id\":\"1194\",\"type\":\"UnionRenderers\"},{\"attributes\":{},\"id\":\"1195\",\"type\":\"Selection\"},{\"attributes\":{},\"id\":\"1196\",\"type\":\"UnionRenderers\"},{\"attributes\":{\"line_color\":\"#4560d6\",\"x\":{\"field\":\"x\"},\"y\":{\"field\":\"y\"}},\"id\":\"1145\",\"type\":\"Line\"},{\"attributes\":{},\"id\":\"1197\",\"type\":\"Selection\"},{\"attributes\":{},\"id\":\"1198\",\"type\":\"UnionRenderers\"},{\"attributes\":{\"active_drag\":\"auto\",\"active_inspect\":\"auto\",\"active_multi\":null,\"active_scroll\":\"auto\",\"active_tap\":\"auto\",\"tools\":[{\"id\":\"1115\"},{\"id\":\"1116\"},{\"id\":\"1117\"},{\"id\":\"1118\"},{\"id\":\"1119\"},{\"id\":\"1120\"}]},\"id\":\"1122\",\"type\":\"Toolbar\"},{\"attributes\":{\"data_source\":{\"id\":\"1134\"},\"glyph\":{\"id\":\"1135\"},\"hover_glyph\":null,\"muted_glyph\":null,\"nonselection_glyph\":{\"id\":\"1136\"},\"selection_glyph\":null,\"view\":{\"id\":\"1138\"}},\"id\":\"1137\",\"type\":\"GlyphRenderer\"},{\"attributes\":{\"line_alpha\":0.1,\"line_color\":\"#f46516\",\"x\":{\"field\":\"x\"},\"y\":{\"field\":\"y\"}},\"id\":\"1151\",\"type\":\"Line\"},{\"attributes\":{},\"id\":\"1199\",\"type\":\"Selection\"},{\"attributes\":{},\"id\":\"1105\",\"type\":\"LinearScale\"},{\"attributes\":{},\"id\":\"1200\",\"type\":\"UnionRenderers\"},{\"attributes\":{\"text\":\"Body Paths Over Time\"},\"id\":\"1097\",\"type\":\"Title\"},{\"attributes\":{\"line_color\":\"#29eea0\",\"x\":{\"field\":\"x\"},\"y\":{\"field\":\"y\"}},\"id\":\"1140\",\"type\":\"Line\"},{\"attributes\":{},\"id\":\"1099\",\"type\":\"DataRange1d\"},{\"attributes\":{},\"id\":\"1201\",\"type\":\"Selection\"},{\"attributes\":{},\"id\":\"1108\",\"type\":\"BasicTicker\"},{\"attributes\":{},\"id\":\"1115\",\"type\":\"PanTool\"},{\"attributes\":{\"formatter\":{\"id\":\"1190\"},\"ticker\":{\"id\":\"1108\"}},\"id\":\"1107\",\"type\":\"LinearAxis\"},{\"attributes\":{\"data\":{\"x\":{\"__ndarray__\":\"AAAAAAAAAAAAAACAk9y0wa3TkqPp/sBBOJY2wQgMA8WaVhqMttD4RE+QVRaGUorFVr7vS1eAkcWwlRDmlCGKxQDuR7Xi7hpFZiJv6dz1Y8XQ2FQ0j38pxSwd0NpSXI1FDiJjp/2Qk0UXVFTTou6MRYB6QiVml0PFy1PZTsQ7UMWA/QhGvsY6RXDFPYjw9XLFBkdACs1zesU6Ao16Gi10xcDeWtnDDh5FQUCjtVQ1dEV3Gwkwk41gRRRfWIc9w47F0FsDeY53lcXTnGTPXs6PxRgG2byOulhFId6EnZXShEUDb99jhg9xRSC0TgQMM5bFywUuul5Hn8Ump1D+Gp2WxWz5QFodEnFFo47yF6PHj0WalDuGduR9Re5w5aosRZnFPkpQu7tSosVg9MZ3vA2axQjbPUxwUHxFhplQ61ullEXbjU4t012FRaYyM7xeWprFLFl5lBWco8XyViSnHiybxcSvL0HbPoVFKIBMMKaPmUWSRNiEMPOMRQND0BNWrpnFzhpnwdjjo8WO5klMQsKaxRD57UMQ0IxFiPOej5RfnkW1yjbOCnSSRbEktA7h35fFL4MWNv+Do8WgaUo9qX2ZxWB+tnivVZJFMLCwJtCRoUWozXEF8Y6WRSZHv6hvnpXFCAGlzw/XosV8rD0SFqKXxVz+Z1Nfn5ZFIoi4BIcLpEUGYH2Dj9KaRSRqt+s4HpPFLwxgZ7cmosVk+gMaAsqVxej11eIlcJtFzr49dB76pkUIGlqzdOGfRVRLddy5jJDFlOTZiwWZocUS7W84p+iTxZ2BtAn816BFCrGMUo/IqkVeF3C7TxCjRaxhCM0LU4zFlktr8j6IocU6AJ7xbm2SxVhgz9pIJKVFDUUlw6UisEU4DI/9PmenRVhcTM3su4jFCfIe4hdoosVeLj5Il22RxUsNi942uqtFk6iiVOhptEV+7qbEYO2tRfiwyFpNeYbF/2NUW/uxpMXetImDKU6RxcSljhcur7JF3gzfd1zNukXiUG2TJ7OzRQjXq2aSWYfFaFEuY0vuqMVBy64jco2SxZFcwTWGz7hFCRem7Lt8wUWWxyKo95G5RZBB4C9Xa43F9L5f4zX3rsXYtdwBtzSWxdTgH3ruCL5FdHbsxs4LxUXtTbFIsF6+RSS7eVR8jJXFgkpU+Nz6ssXSz1hG2EKdxY1rNZWDI8BF5+qs2DrIxkW1ojBz9yTARQBsneZ8KJ/FYM7ZEy1utsWn8jRl40+jxVPaSP10KMBFgMr/wPAox0UbwB8Gkw7ARZh4yQptFKXF8Mmho4K5ucUz1RY5DX2oxaK2Gyov+L5FPqDoPXurxkVQwSywZaG+RTzgVaynxqrF/EYnQyzhvMXoUEH7kgauxVJw/Ne997xF6BTWaAPJxUVsCAChcYu8RbiIOHONV7DFphSFb3/7v8VcoEbekdWxxdwkh2mJmLpFxhtz1GKqxEUvLSKetR66RTO2uEnuSbPFjG+9mY6FwcUmC3rORry0xcy5FJD4BLhFII2RiNVvw0VTEpHodYq3RXeesFTDQ7bFM2NVeCcMw8XwzP8eNae3xZYMX3BDVbVF3wYMGKQgwkXwXg0UR820RZxB8hiQUbnFqRXSxuKYxMWnrYFubZu6xWNKurntprJFFa8c8lXZwEWO5WyjYCuyRYIfbUIrS7zF8IRwILoexsVxmonzOoC9xaPrBB7OErBFSs14Tgc5v0VPVO5E9iivRUo/60gxPL/FcnBATg+gx8XyG+hDzyrAxfQqA433R6tFuabnOCH+vEXaxccJwXmqRbq6tiwhDsHFLLRTkM8hycW2eh/amo/BxbAzHEE80KZF6DCoCPzzukXyB6VieAmmRbzzPr6EdMLFX9KHYrKdysWypwBvAe3CxSwmE8SgmqJFiq2pLa0auUUajQJR2d+hRfLMbTS66MPFeoievIIszMVguUuKw0zExRiDmz2T4p1Fojtp6PeJt0V0MlriAVucRUZ8S2lEOcXFnGyk8HCazcUkqdZ9nJLFxSDwlSpNHJdFgyU1W2Q7tkXInnRfauiVRe1zkPtNoMbFdND0cXIrz8Va1n/nXeHGxYANaL6wAZJFZjBQlp5FtUWQvMJUdtSQRYKeK9JGlsfF/paKzSAd0MWehOI9Nc/HxTDno76xzIpFrvpc2lVwtEX4AieSOqOIRW7evY4wo8jFMxObgkC20MXFq1FZqs/IxeBI/xSCLYNFypRV3DpUs0VA5HqGjwyART9w4atoVsjFfUP0EnNm0MXRt5C0hmTIxSBVgHQ7FXxFIPqc9agQskXAblFEo8t5Rbk+h8d288bF0CioVKzXzsXunH/4XuDGxQAV/qUoCH5FuB6a0yAisUVATnqvMUl9RfwUmXV4HsXFtRRuZWdkzMWcpZjmSOrExWD0H6VQ1oRFNk4ZHdAXsUVsUciTe+GGReEldDVKfMPF78ytq7pbysUHjArqpDPDxcA45UJLgI9FYvkLwV7hsUXs4ALQHeCQRe7X1FbFI8LFapgIKuHFyMXh0WONB83BxQBl0LcoE5ZFKPc2T4s6s0Wy62TCdReYRR5W2Rn0zcDF4mQNJmpEx8U+jIM0imTAxYg+JnVgZ55FRv0V+h8htUVcAfzyukqgRWKBafYC/77FgYhGpfXcxcUoElkYShW+xUypc0w4y6NF1hve3INot0VjErcb5kWlRRjWIKD3MbzFFkELQEZjxMV8Mn8fsia7xZQws/4GQqlF6U//SHIYukUreoT4xdiqReCNlChNMLnFogNn8RbVwsUeECE//Q24xQT75ny0Kq9FKZG2e8sbvUV4rja6tJGwRZLtGPiD8LXF7p8T2SQtwcVwdYEIXLq0xRjhxwvH37JFGsQ/GzoywEWO7pqmq+ezRdznzxTRebLFyhMr003TvsV8EgfNYjKxxU6uUsSkWbZFYnfe4MD5wUX/aLkOqZC3Rco45FMolq3FWnXaPNQou8XPg8FG4BqrxajWR2TjAbpFDLZIk/PLw0WSgHWzgDm7RfA6Oc3yHqbFbAs+OKRqt8VtF8ste7GjxRYNHRYUu71FDJnMzXalxUXMHHBettW+RQgoQbi5m57FsTgYIl4rtMVCWi0kQoSaxWRDjDizicBF2b9abwhXx0V7OSD1/hXBReCXUCUr2JHFgOz3n08mscU43e3z2amMxbQchQPnTcJFYebF4r4xyUXEWZErO9rCRQA+vba8aHfFJhdt81+YrcVAqKK3vxBoxWZ7i7pSBMZFwCpTgWiazUXceU0KZGDGRQCXRXeVYGVFpmpieryp0sXQDx/wtevdxRPbWBtizeDFMTPvH6m23cXajJ/SLz/SxYBPvlfcd4lF1J0jyrKeyEWeex2BLzvQRWAjkgxLG8lFADDeuipklEXvG0hTDKLRxe2xwcqF8tzFNDxPDjRT4MUl92Eubr3cxbk6ydVgN9HFEBAEKBfCnkX1RuQGffnKRfnpFlambtFFzckg+GaAy0XgwB18t4ejRQ0dEirFhNDFIIfvSCTZ28VIeFnMs4vfxbgjsV4+nNvFTt36NJwK0MVQW81sDkupRWxqkCQAe81FudF+JXiu0kVq1OyoS/fNRTjcJjpiI61FxqIACPqozsXLG347QKnaxVUhkfyPWd7FKbpCM15l2sVHM5J9VZnNxd4IdOaasrFFVHvzpGQD0EVoEkoEA/bTRXEej+AxRNBFDIq4o2W3s0UCLi5IQxbMxSpDNgM/X9nFOq0OrbkN3cWLdfNm8RbZxWY2uPnv9crFSCgaTUwZt0WA71PebWbRRU/udnQfYdVFjPn5iM210UXuC7t6L5G5RUMWIrnLJ8nF+mu8pJvq18UU/Y2rapvbxU+S1PxopdfFlbgI3c0RyMWOJZn78ue8RUk46cnu2tJFJT2Y2PrV1kUiiMLoICvTRWKJLjquab9FAfKX0Ak4xsWkamJHGmzWxagppfrUFdrFu8TtqTUZ1sX5tZ2UiOzExWnK8imhpcFF0tY3TDt11EVJHz7eSnHYRY510b8xx9RFYB/THE3uwkU8Y0IsOPXCxUX4maRBxtTF6VuXAzts2MX83GabvWzUxR5JKSsWkMHFoHzkKNn6xEWWPtgTnBzWRbozoJ7SFdpFBm+cDihp1kX0bcFyBi/GRTTKcoYPaL/FmveROYgl08Wv3oj58cvWxYDtj4uSzdLFfrYxnxKrvMVHOE6ekzbIRdKYbTFiwNdFD1UV/UnB20Ua2bjDOB7YRcYq/hzZrslFPO/qOKJJuMUEiby+D1rRxWeESPuF/dTFI3KgJeb80MVw050GPWa1xbKr5+aW08tFwExsOGGJ2UVWNFplPIbdRaY8IJi64NlFSQtfVn8yzUXi/jwDhD2xxXYOOoyNJM/FJRKIRBE008U4jTkLumvOxVSwoePDxqzFBQ50aGY5z0VOE5/RCTPbRaG62OmpKt9F1Qgo48aE20Vc+4LX90HQRSBndePFyaTFtlevgEeVy8WiF0yCtGLRxZi5gVCWx8rFuNvDqlgCncVyv10kyDvRRUT8cyFLudxFCB8qoqxU4EWHob2KVQzdRQLLJF3o4tFFQKpPx1U5isWi2+yHJl3HxSHb0cDEUs7FMaanDa+RxsWA5uf1RQFUxTWtKVYIac9FPV7jwvYj2UVAPdDIljvcRe4+zl16/dhFWhHsgwLXzkXAFuo9NMl9xY+LAutUy8LFOG5t3nPDyMXnl/g5ZOnCxfBqf+VL+YTFhFlWHXrNykUM8st73MXVRYZLzqYfethFYVSSwbSF1UWkEi22sNXJRdD9sCXrIpXFGD2O0dJAw8UIeU/aUMvIxb+YxKm5V8PFoJ1mK17Rl8X1P6iFWKjHRalsWbtzwNNFljC1rcdM1kXM7oke5HvTRXJpXUHZoMZFcIdJQiJ6ocUpNpP0KkPExTts8Mi1isnFn+nAhedKxMWCtPHd71mixdzbBZN8HMVFcn7OiUEw0kWXXgQHmaHURfCg9xKa5dFFfhZ++pD/w0WcBE3b10CoxZNzMZj3fsXFhbeodXqkysX4VjvfBpbFxW4F0Eobo6nFeK89+QuRwkVMlKcRfq/QRQuVTzrnCNNFyhfB1rBZ0EXSxtuI3k/BRQR3NFKjBLDF2gKQ+fYKx8VVsTfPHw3MxQQBNbX6HMfFdGUlzVScsMUEp/JefB7ARfCyIarVjs5FLCivozWP0UXip1VSTdnNRWCHN2avl71FBCn46pvZs8XeXhvmmZ/IxRR01yYpg83FknpzdKOpyMWe4wEyEEy0xcC4s0HBrbtFPeV0++T7y0Wn4IETlDbQRWQvfNHXOctFXk4cUXviuEVq3Jpls4O3xUr18g5tKsrFJkUOevr1zsUDagHeMTXKxQbb6Vfn7rfF+jOp9kslt0VJZUsaKmbJRRIqNcdatM1FNIknOG2PyEVuskXrTxS0RUx/fljsR7vFiR2p2ujAy8WuaObncjrQxZVBq+In0cvF4/MbcMzNu8URXZjsfkayRdBd7kRnm8ZFN3RiNdjGykUxkcv5Ab/FRfq3eyJTdK5FK66U+6aWvsUhUDhfpfTMxRYAkJrtvtDFZ3ScOLn2zMXhGsl/Cd2+xT6mA9FR6KtFkLY9/CH2w0Wa7jhv0/PHRZZbWL2TEcNFJsch6TG3pUVWtPu88XTAxXogDE7TgM3FeAMhpdHp0MWi/irJn3vNxdrTtaDrhsDFnKKyINu/o0VuO14WGifBRZj3nFIe2cRFo1rj7uUtwEV8ueRTCnKaRbIBWLUC28DF7O/ExmjdzMXl0rAY4GnQxWTxnS9Wy8zFF1tJGIrQwMUg0HaosfaXReRIURKgnrtFcKmTTl0CwUXO4k9JrpW5RXgsrBfezoVFj3Dl3kTZvsUkpqX2MWHJxSldu6Z/m8zF9r/Dv0gqycXEdnkRgDi+xVCDF3tNPYdFYNTqVs6YskVVOnHzTA+3Rc/Fv7Yc0LBFgLokjDGMV0UAN+RA9OiyxXgsdgAaHb7FoMqU1Ve7wMXFEk3CoxS9xTAihPQ3FbHFIMScR3JqgkXdy+XvJbSjRfZUuAhWTadFGPG0UUNzoEUAAY0tTCQ4RRbxqfkEwp/FtjlcwkW/qMW7vtNsrOaqxdfKi7elmabFFn9iLUA2mMXEkhic1G2ARd5Mb8FCT5JFDpS3QqDEkkW8B8L9vO+GRSj7Y80JH1zFxkWV7FjmhcVqtkJ95qGNxWlj+avmFo3FQK0v609ohcW2PZy+39tuxWeZY6Q33nJFjBZdV/nVb0VASGLHo21PRd9JIjRZymXF+E9wDQx5dsVMdq9B02RcxZDfue2YvGRFe1jcz/qxd0Wqo/I3n9R9RYJsAQ/cpHlF6CBGEEJ2UUXTfAQg8qF5xZSVRWHo9IbF2gLUz0SAicWGHYYRfdGBxTwcQ5WuNnBF0PI5KlCljEU3pti56tiTRbKZCBxNupNF3NBcq7MCikVYsTS8zsljxQDukGawPY7FRtxiHeu4lcWQok3O6yqVxflapXUDu4jFjvUAiJMofkViXwyxQ1uWRVwzOp6CaZ1FzQWkD+imm0Wz7AE6/v+PRRWpQ5GMzoDFyuIM/TDumcVDm7msHxehxaLxlikJGaDFpPl5YvEJk8UECGTCRa19RQfo8nGx7JpFbo+HWkbSoUXc1V6TiyGgRcLkODa1FI9FS3aBHl3mksVQkKNpDwelxZTF051lCqrFK7pY+44VqMWenbp0moSdxbi3BxvuVnZFFeKneuvQn0W42N3UD5+lReTU1Le1G6NFnPS29c4hjkUB1UzpXIugxfokv1GxD7DFYAajfmIzs8Wc/AE2EoGxxe7VQE+OlKXF4NOaPMXRdEVC6VyGKPakRTLaqq+YoaxFWumx9UecqEWcCu0qRH6PRXdYUF79bKvFmEIlMA3MuMXCa/ZdXf+8xe0GNaIbJ7rF3g039nMasMXAQ5yM10R3RZaZJKzuC65FGi+W27NctEW4vHk/H+SwRS4p0K3oGJBFZpgFw5w8t8V+vBEH5gTExT2gst0ODcfFFJnEOQWkxMXRTh3B4m25xeDbf4drm3tFckfu/SEWtkX20dTebrm9RaSKkqh9DbhFsEfk/gzpkUXA4T29fTTBxS0rTt3oCs3F3a+vCEyS0MU/ciDnc2/NxentMLqu2cHF4JC0Di7Wi0VeTfXBP/a9RSxCnl5Y1sNFBwiU25ERwEVA4wWmU4SbRT6zHCttp8PFNHN8+LfR0MWZ6R2GEDDTxZhQZD1m59DF9hdK+9zfw8VInZGjVGGcRb4Fv1KxicJFIq7tLqr4x0We6MzwPKjDRbTi5SzloqVFaZtxXHasw8U2hnV2d2fRxfqOfOuP8NPF7bO2jbZp0cWG7zhFxJXDxSg+lGYB46dF1HE9frTuxUX0+hBUAKfLRVJrcAy++8ZFNo/WvaAfr0V6VuJ6ToDCxQ==\",\"dtype\":\"float64\",\"order\":\"little\",\"shape\":[692]},\"y\":{\"__ndarray__\":\"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\",\"dtype\":\"float64\",\"order\":\"little\",\"shape\":[692]}},\"selected\":{\"id\":\"1195\"},\"selection_policy\":{\"id\":\"1196\"}},\"id\":\"1134\",\"type\":\"ColumnDataSource\"},{\"attributes\":{},\"id\":\"1202\",\"type\":\"UnionRenderers\"},{\"attributes\":{},\"id\":\"1101\",\"type\":\"DataRange1d\"},{\"attributes\":{},\"id\":\"1103\",\"type\":\"LinearScale\"},{\"attributes\":{\"axis\":{\"id\":\"1107\"},\"ticker\":null},\"id\":\"1110\",\"type\":\"Grid\"},{\"attributes\":{\"formatter\":{\"id\":\"1188\"},\"ticker\":{\"id\":\"1112\"}},\"id\":\"1111\",\"type\":\"LinearAxis\"},{\"attributes\":{\"line_alpha\":0.1,\"line_color\":\"#29eea0\",\"x\":{\"field\":\"x\"},\"y\":{\"field\":\"y\"}},\"id\":\"1141\",\"type\":\"Line\"},{\"attributes\":{},\"id\":\"1112\",\"type\":\"BasicTicker\"},{\"attributes\":{},\"id\":\"1203\",\"type\":\"Selection\"},{\"attributes\":{\"axis\":{\"id\":\"1111\"},\"dimension\":1,\"ticker\":null},\"id\":\"1114\",\"type\":\"Grid\"},{\"attributes\":{\"data\":{\"x\":{\"__ndarray__\":\"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\",\"dtype\":\"float64\",\"order\":\"little\",\"shape\":[692]},\"y\":{\"__ndarray__\":\"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\",\"dtype\":\"float64\",\"order\":\"little\",\"shape\":[692]}},\"selected\":{\"id\":\"1193\"},\"selection_policy\":{\"id\":\"1194\"}},\"id\":\"1129\",\"type\":\"ColumnDataSource\"},{\"attributes\":{\"source\":{\"id\":\"1144\"}},\"id\":\"1148\",\"type\":\"CDSView\"},{\"attributes\":{},\"id\":\"1204\",\"type\":\"UnionRenderers\"},{\"attributes\":{},\"id\":\"1116\",\"type\":\"WheelZoomTool\"},{\"attributes\":{},\"id\":\"1120\",\"type\":\"HelpTool\"},{\"attributes\":{\"overlay\":{\"id\":\"1121\"}},\"id\":\"1117\",\"type\":\"BoxZoomTool\"},{\"attributes\":{},\"id\":\"1118\",\"type\":\"SaveTool\"},{\"attributes\":{},\"id\":\"1119\",\"type\":\"ResetTool\"},{\"attributes\":{\"line_alpha\":0.1,\"line_color\":\"#4560d6\",\"x\":{\"field\":\"x\"},\"y\":{\"field\":\"y\"}},\"id\":\"1146\",\"type\":\"Line\"},{\"attributes\":{\"data\":{\"x\":{\"__ndarray__\":\"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\",\"dtype\":\"float64\",\"order\":\"little\",\"shape\":[692]},\"y\":{\"__ndarray__\":\"AAAAbG1qQUISqmrJK2u1xQAAAAAAAAAAF5WACWHatMWw6TJhH11xxbDwGpgR281F5kSz0fTn00Uo+7M7QVHNRaB0MwN6EIrFEApIkHdJuMVA41vP0rKRxac94Xr2LsxF1VIXQQwO00W+e76z/JDLRWjUTiCniJvFt6Vi2gUcvMXsr/eG7HGgxXno45orfMpFLIeuntM80kWoa51jV9nJRYBmXrUDl6XF/KV4f9IUwMXw3IlxY2qoxbTuH5rLnchFqGRqqcFS0UXA80lBH/nHRTgOdiOPo63FWA+wi2YpwsVrRX5nvVywxfIR+MFfm8ZFglIdQXdS0EWk++0ZCerFRYo76c4xM7PF7ndUWOhjxMUI+/QdAMW0xdwvI1ZtesRFfkMyKTuOzkX02VAzV9DDRfR/CLvrh7fFBk1VPaOVxsVoxLXjkCa5xaWiQJUOUcJF2mMDpRRkzEVIN1AcqZ3BRcjwJL+1FLzFiscu0V7hyMV36QNHwLW9xXolWxUtFMBFMhMKhwwsykXv+srBosG+ReKWWWw9VcDFpwcjD8Mwy8WUK6QnuiXBxWaXQOWFrLtFQIvRW/r4x0UgDGSdpmC6RTq7xyGQlMLFhG0xElJzzcWyBpYjEWHDxbbchhcLV7dFt+yFtaDXxUVU4XnLFRm2RR7R8zFDycTFLkIf5Ninz8Xatw18g4fFxYQOvtxTPbNFqPg86CDdw0U/wPBkDiGyRVJMQ5UU48bFkyHeZX3k0MVXteOdeZjHxSzBmvxT165FzXSNUAwKwkW2EH1tZdisRUJnVWhw6MjFoph5gkfp0cXtswaaj4LJxWDsylGzMahFfNY9kJOFwEUqReV237mmRUhPWBXnl8rFMequ+Vq/0sWg7EvmhQHLxcQf/468iqNFVFjZLykBv0Ven62d2KiiRdYo/eBTk8vFLp5rl5Ur08V7eD1d8KHLxaQl4MAyLKJFBZtQf3WNvkUYfrM1CluiRbi82ijQPcvFCX7F8XTe0sXfITQc4uvKxVT0nimuuqRFOOGOh8O8v0XUJbwJwoSlRdW7z81F4MnFmaAWDPUL0sUrYYhDjU7JxXSoDYpoxKlF782UocoGwUXOVhVwKAmrRWhoDA2V+8fF+C+Dmpr80MUwT2/t2UPHxXiHD2c+K7BFHA0MWCaRwkUttPGMGfSwReCBsalB38XFTuj4iKyvz8VuQVoQ1grFxfj2nwFq8bNFhqsGfcdgxEXuk6nznsu0RXhpl9Z2usPFbHVtpnd6zcV2lYlf2unCxbqtz3rOxLdFaGA2wvpAxkWtc3Zgb7a4RVj8o2NCpcHFyr8usg1Xy8XJFXClIdLAxfo2CS9AnbtFGk8AzFQhyEUx9MuW3oy8Rasz8LJUO7/FlpwYOTdHycW5BxUSVKC9xYnr0UlBUr9Fn5JhY8jtyUWCSr+dPhjARUD1y+eTebvFwh7o251fx8W/iG/+Vue5xXSy9T0hX8FFPDqZufGWy0We9qDsrsnBRdR0reEB47fFqseMqbOQxcWb1tAf0nG2xcK0wcbQ5sJFx3FZZqkLzUUwRTAlw0jDRZ6bm4fCnrTF6FwoE73dw8W8X7zrgyuzxTCzTUGEScRFMFnCMjZTzkU5IqlFGpnERVLicrpxpbHFZn7AVVNVwsXJdT4coFuwxaYANB8dV8VFKa+pfSM8z0VBkONQvZHFRYxf0FqVWq7FTNtGVH/+wMVCJJ2KIfSrxcqlzB32CcZFNHl2pAG7z0WsxX4i0SXGRfR7p21cl6rFAx661Gfnv8WEfUsUp6SoxWYVFVrYQsZFbDbR7uG4z0Xj6Ccud0jGRfjDy9HP+KfFM3R5jMhFvsUEaC36elWmxfBv/WFSJ8ZFoAm3evVcz0U8Wh4C3BfGRZgDrkS/YqbFuVNDFO8XvcWuXhN1iRSlxWwCCeYPrcVFLAukTCeTzkWQn5cv3nzFRZTRpt0CEqbFqDBrbzCMvMUQVxKYcQqlxWsq4FOY/MRFav0hGLKjzUWeF2zuxsHERaiIFgiaaKbFZkWtOFlQvMWgdc29oJulxViREEcsKcRFKFOBp9WOzEVCRfiJztnDRWB6DetpkKfFt9PGFJKhvMXQCKhlti2nxUf41IhqRsNFBrWv2c6By0XonGwLbPXCRVTWz28vQanF8wnP6ps3vcX6zbXtORCpxfaDatsxX8JFBlfGY0x1ykV4nhZUxQ3CReA2CHcJIKvF5n0x1oLzvcWEbZBZNxirxdau2IfylsFFYcKbs1aWyUVOZ3qUp0XBRaj8blqiNK3FDYNHCxrYvsVaSYywwjitxdg1XF551cBFbK10Oe7AyEXCoEgigoPARTzc4jprTK/FbnAwTvDAv8Uu41jVA2CvxS65bgdRF8BFtBUvNDvtx0V67yM+1XO/RbCwXPtH4rDFru4fMbR2wMU65zL5FwOxxby7qczhiL5FzDy/HOkLx0WH+P4rD8u9RbfXcCpFO7LFFBzhU6sZwcU8EL5ASGayxThWrmCX4rxFCkoGjrIvxkVtjo3WoTS8RSc9AqlhfrPFMft0GSiswcUhJ8zSoZ2zxYdCxUQob7tFkaAB6ORnxUVaE9CGHKu6RWJR1m3h1rTFaqf+kEVUwsVYDEsx/gW1xVSv0Ktq1blFT6A0yS2UxEX9kZYX2x65RV+S1eJXG7bFPLPTZcrpwsXy7JADx0C2xVrkDJ25aLhFygzSI1DRw0UiNE72aJu3RfDd/x6JfbfFDMp/oq6bw8UGn5bnRcG3xZLU+mZtt7ZFF4XisULwwkX+EtbU2e21RVbdZlgW67jFWYXui4hCxMUMF85fBBW5xZSPMkQMObVFe1KD5iwowkWwQrS6nWu0RfRrVna+OLrFOfgRLBPnxMXsbxQs5326xfQAdek2krNF55siDLxDwUV1K3vkLqmyRXvne6tpv7vFkkrgC52dxcVFvqM8zfa7xU+2FG9j4bFFUuRD+SVhwEXCZp0BYAexRZZ0lYdg+bzFcgUerUspxsVdvFLc9yu9xacwjKpmTbBFxzVrhiLtvkXRVnHDMG+uRZr4rAXGVr7FEAS2xqLCxsUwEPq/Inm+xfyzEYn2Sa1F3lakrs03vUXxYkyUgYarRQa1aeF5Lr/FWmoePYwOx8WrgIdR1i+/xSKfhLnT5KpFih7VoYbnu0UTpsDWImypRQQak2iYg7/F7dFZ0C4ex8XL49k1EI6/xX6JLS5ZwqhFpBFpoc+JukVEmFa8vyynRZhGyHMjyL/FTKNU1ikPx8X659f9VpK/xRCmzRE7XadFNDt5dnKjuUUjN2Si3A+mRcLjDTVedL/FUE462Kq0xsUb7G1Fqvu+xb6pRLWmX6dF8GubALGXuUWYy6hspMqmRUQVgz3sPr7FSDcsKcfxxcUjkd+7ZK29xY4AIp74fahFDwDhN/v1uUX2/pGvGQioRdeqXJyW/bzFJm5E43Q/xcV0xpHiMJa8xewxfLSBMKlFdsxDE3MKukVUld3qZqKoRaarhRP/C7zFaJc4YWSaxMXkQ7s3pl+7xbwrzfDzqKpF7P3/AVC6ukWAzyzSvY6qRX4pymKypbrFf0ERt07Sw8Xi59GNf9a5xTQ/VX11Q61FqKSMW8MZvEWjoM7LBr+tRfjGL1A2wrjFBLIoG8LWwsVfWB1V/AK4xSPppiuLHLBF7J7qqoOCvUU7N4YFZ1+wRZN7bhNzELfFeQmiHpL9wcXCzRt5pXW2xdCUe/f3X7FFW0wZk9awvkVYlJFLrq6xReCq5f45eLXFBDGrejcZwcXA/8d/0560xTwpF4ouJLNFGjP6hCg9wEWzn2FADIizRXnXBVhTirPFnmFaFC8cwMVKAWDVlKCyxaJzjQWSD7VFJJDutMU0wUVUlID8ZIW1RdyNwaQghrHFpXvQ90hGvsVMkg7SqtiwxVaFyI/upLZFX0VBYlv3wUUIOLUx8gi3RWQWY3tT/a/FxOR0rhHbvMWz2O7EkUyvxQ7w/ajZobdFhF9Az/JpwkXAYhAqP/e3RXyi1/mt/q3F9IkOzjHhu8Uu9kTXG1+txSeJS1ZllrhFQ1cSv77fwkU4dF2fUMy4RbBjjzcda6zFEUscfSEXu8WWbNSPgKmrxc0AbYzDiLlFGbmSP5xiw0X+Daqb5925RajoRjwtX6rF4yTdE8UiusXL5vjznOapxX5UwTU/aLpF/1nb2H3Pw0V+mRNgYqy6RYxjVADJ5qjFCJz3lY+EucWyuXdQaPeoxU3fd+y2xrpFTI6gCnz1w0UP53psLeK6RWJCB3oyzajFavIyYMKhucU9mPL+GlCpxRR2ZcvJrrpFXFZRF6Diw0U6R9hjaY+6RRyZ+61m3anFOPCptkA9usU9HxAdrFqqxcwNkklxY7pFCPzYloTMw0VpUuQQAWS6RQIkDQqXmarFjQ9K30qwusXC/dJ4giSrxTVn4kVzPLpF5/b7rCrGw0Xu/l7rJkq6Rby7krr/OqvFzOMQxZYru8VzYythHFysxezdPvf8n7lFusoouUxxw0WiV2SHVHS5RdQGO7Bcma3FcseGVz+WvMUXPs8zM1ivxW7bBLAWMLhF4OgT9VqmwkUcNhV3TpG3RcYBtFeHEbHFn1LwprQBv8VJjQBvewSyxTsPjLv/FLZF8Mh/ei6vwUVwVmu/B6u1RfYKF/hlNLPFF0Yo9EufwMUW1Ip6xTK0xTBgN+dwL7RFeoOXcabWwEVaYtURrQm0RRoTu+Co+bTFOWX4CEyHwcVoqzRS4f21xeS6S59TiLJFZieRwYQQwEXya+pArXOyRTTuUfdW6bbFyGSGH6KUwsVyDGLRAAy4xVYJRln6rrBFrmeAr4pKvkVjMEjX406wRQkVattzs7nFCkPVUlgaxMV+KnvFrfy6xSQLEeENPKxFtkBhVNbuu0WAidw+zYOrRYh3+RQbIr3FxlTAWOUAxsWufDLsxaO+xdjjpdffYaZFCt/aOKqDuUXvbdfWx2SmRZip9z05csDFumuK9/sTyMVuDZzlTS3BxVSXLILXiKFFBNkcd7zLt0VgoYVIFC+iRQjMRWFriMLFrwWIcQ1vysVsPFbVVg/DxYCfjXtdip1FwJXnypmZt0XWCQYa5RKgRTA7h3/S6sTFhNV7sVBkzcVQLGQh0E7FxfDxIvJvTJtFyJ73AmjAuEVIecwVt8mfRRn0jxFWLcfFwtro4usn0MU2bzcsilfHxbii9hNmk55FH41hb/cqu0UMIE87yWuiRdVmi3ZEH8jFWPCNKTLa0MWG3g5kewPIxcTDW0SOIqRF1iEcBFGbvkWYZI/JAP2nRXoNkOecfcfFoU6rk3WS0MXmQoTuH+zGxYB/xXT2Bq1FPsjMpQHTwUUebaW/MbWwRaIX6Y6thcXFktq8puo/z8Uxxz69nr3ExSo6Qk2DLrRF+XeDnz/jxEW46eoeIr62Ra7dtqcCs8LFmuT2fad8zMWSj2Bkz+LBxXj8j91qarpFUX95FhsSyEWcL+ABpPe8RXBXf8Oqar/Ftpwv72aUycUz3msxDuy9xUaVVkwQR8BF9gkt/x0jy0XSkwaJdH7BRe4zbUfjhbnFBF9bXMybxsVv2Swx+tG3xdDHpqTkgcNFnLgsOrdczkXomoUE3prERe47qlUArbPFWwKmLrzMw8VodR/ePg6yxfkxDIl2t8ZFwhVJp6fZ0EU8KplN3N3HRYAJeFPBWKvFFs1F7sHxwMVULqf41kCoxZ+o3DRbH8pFu6vdxxWe0kXczpYQazTLRfhqx70r+p/FG7OTEiDJvMVAyev6pzabxUKpjvLz9cxFwbGPK0Tz00VzHjJ8o2rNRfC8Lz177pPFDaJlihcZusXYVHt4gG6Txemd4veFK8xFWgd30VUK00XUfZZ5xlzLRch8TT+Md5/FWH6q/QqfvMXckLj0SKShxQGfEjhEEMlFJtVpqCpE0UWKStRVkAzIRdiZ9KqMVKnF7HyVu2OMwMV8iOTAgP+rxdQC5S4S7MVF9frnclc0z0W6UmUpJd/ERfb5ot/BBrLFJ0+q2m4rw8VlVxUKNJezxXbRgrRJ4cJFvjQVnDYTzEUCgKLrut3BRVrT54SxVbfFkHYRX6SjxcVjTJFrLHm4xYxx9ImOYsBFEpcNGMySyUVy7nT4TOW+RYw4uf0PzrvF0q13VLPSx8WjOmMwM9W8xbUOCeqQbrxFUU4dYFh2x0U7LbXDRNi6RWUX/a2wmL/FX1ApQ7qtycWilXvfQE7AxYJDEYY/f7hFyygVbTR+xUU859JPMQO3RcX6HJJqlsHF2w0VRr97y8X+CaHlYDPCxWi9T0yearRFAL6McM5cw0VGYTJHJdKyRZclUc57fMPFRcXU13FDzcUg90nPHP3DxaIvnuYAk7BFUlYlRhNhwUUmDymGBO6tRQIRPL1sPcXFedV6HRf5zsV+2xDBer/FxTytEBeMmKlFcO0Aj3H6vkWIfuONNs+mRUJR0pUhxMbFYuz0dWgz0MXixY8VczrHxTxxJvrO7KJF47Tcqcemu0XCn+VZ9OqgRTy/Cua20sfFw4XTsEem0MWBQCceIS/IxfjZKxqDFJxF8Dh3nrMWuUXIK1Y0ileZRQaNruanWMjF8nst/mDE0MVAI/emIW3IxUCwCg8hsJdFr92PIA31t0U0+PgvTV+WReBRX9PLe8jF0oXPOufK0MVYJ09nOIPIxXi7EoQGvJVF46hLZjSLt0UQPYNWMfKURYdWS2gXysjFSazWFX/90MU3avELofPIxaiYOmQ/aZJFyDJ2/lzotkXoRYWaauGRRa9DQ0gDncnFYwnqTF5/0cU6LfoJyN/JxdBInuvNSIxFsspOKYhStkUonm+yW2KLRQ7eiE3VKMvFCn6Wf2Nq0sVWispKZEvLxfDnYJGKaYdFZq5nyazjtkW4jsfClVuJRUiop83x6MzFjHQ960qC08W9qPa1hrnMxdAiRwrdQI9FWTQ5n5wduUWUjilmWTSTRc54Fi2f7MzF3InYz9ed08U4fHeedIPMxdiFMbS6/plFjG5HruBWvEVYMiTonIufRSR+H8qBmMvFW3uCSbH20sVaJ0DwhQDLxeAGwIUnwqRFEOWYOCs8wEWMx80GmBSoRYWc0hSBjsnF9pHKhejs0cUYS+KX8trIxdANQGlpv61FEWPkHPdrwkXfLzj/TxmwRbL17V2JrcfFfSqn+CMG0cVNGkDlyQ3HxTq7N4ogi7JFu/3Hvbs9xEU8w98TPaazRcDJuZxgAMbFaZhl+Js50MVp3oEuz4PFxdZUFK7RnrVFCovBTNTAxUV4guop/pa2RRqh69zAlMTFmBJUJtwaz8XBppPoakPExd4G7YvF+7dFkcym1nvkxkWO3UaIj8+4Rcv5MdUOfsPFAPW7mlQEzsXkoaFFzSnDxQzMGRPaI7pFWOIrZwHox0XebhhNU6y6RQ==\",\"dtype\":\"float64\",\"order\":\"little\",\"shape\":[692]}},\"selected\":{\"id\":\"1197\"},\"selection_policy\":{\"id\":\"1198\"}},\"id\":\"1139\",\"type\":\"ColumnDataSource\"},{\"attributes\":{},\"id\":\"1205\",\"type\":\"Selection\"},{\"attributes\":{\"line_color\":\"#f56817\",\"x\":{\"field\":\"x\"},\"y\":{\"field\":\"y\"}},\"id\":\"1155\",\"type\":\"Line\"},{\"attributes\":{\"bottom_units\":\"screen\",\"fill_alpha\":0.5,\"fill_color\":\"lightgrey\",\"left_units\":\"screen\",\"level\":\"overlay\",\"line_alpha\":1.0,\"line_color\":\"black\",\"line_dash\":[4,4],\"line_width\":2,\"right_units\":\"screen\",\"top_units\":\"screen\"},\"id\":\"1121\",\"type\":\"BoxAnnotation\"},{\"attributes\":{\"source\":{\"id\":\"1139\"}},\"id\":\"1143\",\"type\":\"CDSView\"},{\"attributes\":{\"line_color\":\"#f46516\",\"x\":{\"field\":\"x\"},\"y\":{\"field\":\"y\"}},\"id\":\"1150\",\"type\":\"Line\"},{\"attributes\":{},\"id\":\"1206\",\"type\":\"UnionRenderers\"},{\"attributes\":{\"data\":{\"x\":{\"__ndarray__\":\"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\",\"dtype\":\"float64\",\"order\":\"little\",\"shape\":[692]},\"y\":{\"__ndarray__\":\"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\",\"dtype\":\"float64\",\"order\":\"little\",\"shape\":[692]}},\"selected\":{\"id\":\"1199\"},\"selection_policy\":{\"id\":\"1200\"}},\"id\":\"1144\",\"type\":\"ColumnDataSource\"},{\"attributes\":{\"data_source\":{\"id\":\"1144\"},\"glyph\":{\"id\":\"1145\"},\"hover_glyph\":null,\"muted_glyph\":null,\"nonselection_glyph\":{\"id\":\"1146\"},\"selection_glyph\":null,\"view\":{\"id\":\"1148\"}},\"id\":\"1147\",\"type\":\"GlyphRenderer\"},{\"attributes\":{\"data_source\":{\"id\":\"1159\"},\"glyph\":{\"id\":\"1160\"},\"hover_glyph\":null,\"muted_glyph\":null,\"nonselection_glyph\":{\"id\":\"1161\"},\"selection_glyph\":null,\"view\":{\"id\":\"1163\"}},\"id\":\"1162\",\"type\":\"GlyphRenderer\"},{\"attributes\":{\"data_source\":{\"id\":\"1149\"},\"glyph\":{\"id\":\"1150\"},\"hover_glyph\":null,\"muted_glyph\":null,\"nonselection_glyph\":{\"id\":\"1151\"},\"selection_glyph\":null,\"view\":{\"id\":\"1153\"}},\"id\":\"1152\",\"type\":\"GlyphRenderer\"},{\"attributes\":{\"data\":{\"x\":{\"__ndarray__\":\"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\",\"dtype\":\"float64\",\"order\":\"little\",\"shape\":[692]},\"y\":{\"__ndarray__\":\"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\",\"dtype\":\"float64\",\"order\":\"little\",\"shape\":[692]}},\"selected\":{\"id\":\"1201\"},\"selection_policy\":{\"id\":\"1202\"}},\"id\":\"1149\",\"type\":\"ColumnDataSource\"},{\"attributes\":{\"source\":{\"id\":\"1149\"}},\"id\":\"1153\",\"type\":\"CDSView\"},{\"attributes\":{},\"id\":\"1207\",\"type\":\"Selection\"},{\"attributes\":{\"data\":{\"x\":{\"__ndarray__\":\"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\",\"dtype\":\"float64\",\"order\":\"little\",\"shape\":[692]},\"y\":{\"__ndarray__\":\"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\",\"dtype\":\"float64\",\"order\":\"little\",\"shape\":[692]}},\"selected\":{\"id\":\"1205\"},\"selection_policy\":{\"id\":\"1206\"}},\"id\":\"1159\",\"type\":\"ColumnDataSource\"},{\"attributes\":{\"data\":{\"x\":{\"__ndarray__\":\"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\",\"dtype\":\"float64\",\"order\":\"little\",\"shape\":[692]},\"y\":{\"__ndarray__\":\"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\",\"dtype\":\"float64\",\"order\":\"little\",\"shape\":[692]}},\"selected\":{\"id\":\"1203\"},\"selection_policy\":{\"id\":\"1204\"}},\"id\":\"1154\",\"type\":\"ColumnDataSource\"},{\"attributes\":{\"line_alpha\":0.1,\"line_color\":\"#4584f9\",\"x\":{\"field\":\"x\"},\"y\":{\"field\":\"y\"}},\"id\":\"1161\",\"type\":\"Line\"},{\"attributes\":{},\"id\":\"1208\",\"type\":\"UnionRenderers\"},{\"attributes\":{\"data_source\":{\"id\":\"1154\"},\"glyph\":{\"id\":\"1155\"},\"hover_glyph\":null,\"muted_glyph\":null,\"nonselection_glyph\":{\"id\":\"1156\"},\"selection_glyph\":null,\"view\":{\"id\":\"1158\"}},\"id\":\"1157\",\"type\":\"GlyphRenderer\"},{\"attributes\":{\"line_color\":\"#4584f9\",\"x\":{\"field\":\"x\"},\"y\":{\"field\":\"y\"}},\"id\":\"1160\",\"type\":\"Line\"},{\"attributes\":{\"line_alpha\":0.1,\"line_color\":\"#f56817\",\"x\":{\"field\":\"x\"},\"y\":{\"field\":\"y\"}},\"id\":\"1156\",\"type\":\"Line\"},{\"attributes\":{\"source\":{\"id\":\"1154\"}},\"id\":\"1158\",\"type\":\"CDSView\"},{\"attributes\":{\"source\":{\"id\":\"1159\"}},\"id\":\"1163\",\"type\":\"CDSView\"},{\"attributes\":{\"data_source\":{\"id\":\"1164\"},\"glyph\":{\"id\":\"1165\"},\"hover_glyph\":null,\"muted_glyph\":null,\"nonselection_glyph\":{\"id\":\"1166\"},\"selection_glyph\":null,\"view\":{\"id\":\"1168\"}},\"id\":\"1167\",\"type\":\"GlyphRenderer\"},{\"attributes\":{\"data\":{\"x\":{\"__ndarray__\":\"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\",\"dtype\":\"float64\",\"order\":\"little\",\"shape\":[692]},\"y\":{\"__ndarray__\":\"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\",\"dtype\":\"float64\",\"order\":\"little\",\"shape\":[692]}},\"selected\":{\"id\":\"1207\"},\"selection_policy\":{\"id\":\"1208\"}},\"id\":\"1164\",\"type\":\"ColumnDataSource\"},{\"attributes\":{},\"id\":\"1209\",\"type\":\"Selection\"},{\"attributes\":{\"line_color\":\"#fe9e2e\",\"x\":{\"field\":\"x\"},\"y\":{\"field\":\"y\"}},\"id\":\"1165\",\"type\":\"Line\"},{\"attributes\":{\"line_color\":\"#4456c7\",\"x\":{\"field\":\"x\"},\"y\":{\"field\":\"y\"}},\"id\":\"1175\",\"type\":\"Line\"},{\"attributes\":{},\"id\":\"1210\",\"type\":\"UnionRenderers\"},{\"attributes\":{\"line_color\":\"#4043a6\",\"x\":{\"field\":\"x\"},\"y\":{\"field\":\"y\"}},\"id\":\"1170\",\"type\":\"Line\"},{\"attributes\":{\"source\":{\"id\":\"1164\"}},\"id\":\"1168\",\"type\":\"CDSView\"},{\"attributes\":{\"line_alpha\":0.1,\"line_color\":\"#fe9e2e\",\"x\":{\"field\":\"x\"},\"y\":{\"field\":\"y\"}},\"id\":\"1166\",\"type\":\"Line\"},{\"attributes\":{\"data\":{\"x\":{\"__ndarray__\":\"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\",\"dtype\":\"float64\",\"order\":\"little\",\"shape\":[692]},\"y\":{\"__ndarray__\":\"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\",\"dtype\":\"float64\",\"order\":\"little\",\"shape\":[692]}},\"selected\":{\"id\":\"1209\"},\"selection_policy\":{\"id\":\"1210\"}},\"id\":\"1169\",\"type\":\"ColumnDataSource\"},{\"attributes\":{\"data_source\":{\"id\":\"1169\"},\"glyph\":{\"id\":\"1170\"},\"hover_glyph\":null,\"muted_glyph\":null,\"nonselection_glyph\":{\"id\":\"1171\"},\"selection_glyph\":null,\"view\":{\"id\":\"1173\"}},\"id\":\"1172\",\"type\":\"GlyphRenderer\"},{\"attributes\":{\"line_alpha\":0.1,\"line_color\":\"#2bb6ef\",\"x\":{\"field\":\"x\"},\"y\":{\"field\":\"y\"}},\"id\":\"1131\",\"type\":\"Line\"},{\"attributes\":{},\"id\":\"1211\",\"type\":\"Selection\"},{\"attributes\":{\"source\":{\"id\":\"1169\"}},\"id\":\"1173\",\"type\":\"CDSView\"},{\"attributes\":{\"line_alpha\":0.1,\"line_color\":\"#4043a6\",\"x\":{\"field\":\"x\"},\"y\":{\"field\":\"y\"}},\"id\":\"1171\",\"type\":\"Line\"},{\"attributes\":{},\"id\":\"1212\",\"type\":\"UnionRenderers\"},{\"attributes\":{\"data\":{\"x\":{\"__ndarray__\":\"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\",\"dtype\":\"float64\",\"order\":\"little\",\"shape\":[692]},\"y\":{\"__ndarray__\":\"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\",\"dtype\":\"float64\",\"order\":\"little\",\"shape\":[692]}},\"selected\":{\"id\":\"1211\"},\"selection_policy\":{\"id\":\"1212\"}},\"id\":\"1174\",\"type\":\"ColumnDataSource\"},{\"attributes\":{\"data_source\":{\"id\":\"1174\"},\"glyph\":{\"id\":\"1175\"},\"hover_glyph\":null,\"muted_glyph\":null,\"nonselection_glyph\":{\"id\":\"1176\"},\"selection_glyph\":null,\"view\":{\"id\":\"1178\"}},\"id\":\"1177\",\"type\":\"GlyphRenderer\"},{\"attributes\":{\"source\":{\"id\":\"1174\"}},\"id\":\"1178\",\"type\":\"CDSView\"},{\"attributes\":{\"line_alpha\":0.1,\"line_color\":\"#4456c7\",\"x\":{\"field\":\"x\"},\"y\":{\"field\":\"y\"}},\"id\":\"1176\",\"type\":\"Line\"},{\"attributes\":{\"source\":{\"id\":\"1129\"}},\"id\":\"1133\",\"type\":\"CDSView\"},{\"attributes\":{},\"id\":\"1188\",\"type\":\"BasicTickFormatter\"},{\"attributes\":{\"source\":{\"id\":\"1134\"}},\"id\":\"1138\",\"type\":\"CDSView\"},{\"attributes\":{\"data_source\":{\"id\":\"1139\"},\"glyph\":{\"id\":\"1140\"},\"hover_glyph\":null,\"muted_glyph\":null,\"nonselection_glyph\":{\"id\":\"1141\"},\"selection_glyph\":null,\"view\":{\"id\":\"1143\"}},\"id\":\"1142\",\"type\":\"GlyphRenderer\"},{\"attributes\":{\"line_alpha\":0.1,\"line_color\":\"#e84b0c\",\"x\":{\"field\":\"x\"},\"y\":{\"field\":\"y\"}},\"id\":\"1136\",\"type\":\"Line\"},{\"attributes\":{\"data_source\":{\"id\":\"1129\"},\"glyph\":{\"id\":\"1130\"},\"hover_glyph\":null,\"muted_glyph\":null,\"nonselection_glyph\":{\"id\":\"1131\"},\"selection_glyph\":null,\"view\":{\"id\":\"1133\"}},\"id\":\"1132\",\"type\":\"GlyphRenderer\"},{\"attributes\":{},\"id\":\"1190\",\"type\":\"BasicTickFormatter\"},{\"attributes\":{\"line_color\":\"#2bb6ef\",\"x\":{\"field\":\"x\"},\"y\":{\"field\":\"y\"}},\"id\":\"1130\",\"type\":\"Line\"},{\"attributes\":{\"line_color\":\"#e84b0c\",\"x\":{\"field\":\"x\"},\"y\":{\"field\":\"y\"}},\"id\":\"1135\",\"type\":\"Line\"},{\"attributes\":{},\"id\":\"1193\",\"type\":\"Selection\"}],\"root_ids\":[\"1096\"]},\"title\":\"Bokeh Application\",\"version\":\"2.1.1\"}};\n",
       "  var render_items = [{\"docid\":\"ce42d610-10cd-416f-94b1-74be1a7f5630\",\"root_ids\":[\"1096\"],\"roots\":{\"1096\":\"df901c3f-c922-4ea8-9909-af4ba59725cb\"}}];\n",
       "  root.Bokeh.embed.embed_items_notebook(docs_json, render_items);\n",
       "\n",
       "  }\n",
       "  if (root.Bokeh !== undefined) {\n",
       "    embed_document(root);\n",
       "  } else {\n",
       "    var attempts = 0;\n",
       "    var timer = setInterval(function(root) {\n",
       "      if (root.Bokeh !== undefined) {\n",
       "        clearInterval(timer);\n",
       "        embed_document(root);\n",
       "      } else {\n",
       "        attempts++;\n",
       "        if (attempts > 100) {\n",
       "          clearInterval(timer);\n",
       "          console.log(\"Bokeh: ERROR: Unable to run BokehJS code because BokehJS library is missing\");\n",
       "        }\n",
       "      }\n",
       "    }, 10, root)\n",
       "  }\n",
       "})(window);"
      ],
      "application/vnd.bokehjs_exec.v0+json": ""
     },
     "metadata": {
      "application/vnd.bokehjs_exec.v0+json": {
       "id": "1096"
      }
     },
     "output_type": "display_data"
    }
   ],
   "source": [
    "# Display body path plot\n",
    "fig = plot_2D_body_time_series(\n",
    "    pos_x_list = pos_x_list,\n",
    "    pos_y_list = pos_y_list,\n",
    "    plot_width = 800,\n",
    "    plot_height = 800,\n",
    "    title = \"Body Paths Over Time\"\n",
    ")\n",
    "\n",
    "bokeh.plotting.show(fig)"
   ]
  },
  {
   "cell_type": "markdown",
   "metadata": {},
   "source": [
    "# Calculate Displacement for n Time Steps on Each Body"
   ]
  },
  {
   "cell_type": "markdown",
   "metadata": {},
   "source": [
    "Set the number of time steps in the future to calculate displacement for.  This will add columns to the end of the displacement dataframe that will later be filled."
   ]
  },
  {
   "cell_type": "code",
   "execution_count": null,
   "metadata": {},
   "outputs": [],
   "source": [
    "# Set the number of \"shotgun\" future time steps to predict.\n",
    "num_ts_to_predict = 10"
   ]
  },
  {
   "cell_type": "code",
   "execution_count": null,
   "metadata": {},
   "outputs": [],
   "source": [
    "# Make copy of position dataframe and add columns for displacment.\n",
    "dis_df = pos_df.copy(deep=True)\n",
    "# Add columns to end of displacement dataframe using for loop.\n",
    "for i in range(1,num_ts_to_predict+1):\n",
    "    col_title_x = \"dis_x_\" + str(i)\n",
    "    col_title_y = \"dis_y_\" + str(i)\n",
    "    dis_df[col_title_x] = None\n",
    "    dis_df[col_title_y] = None\n",
    "\n",
    "# Drop the previous position columns.\n",
    "dis_df.drop(['pos_x', 'pos_y'], axis=1, inplace=True)\n",
    "dis_df.head(15)"
   ]
  },
  {
   "cell_type": "markdown",
   "metadata": {},
   "source": [
    "Will now loop over all time steps and future predicted time steps to calculate all displacements."
   ]
  },
  {
   "cell_type": "code",
   "execution_count": null,
   "metadata": {},
   "outputs": [],
   "source": [
    "# Indexer to help with slicing dataframe.\n",
    "idx = pd.IndexSlice\n",
    "# Loop over all the time steps\n",
    "for curr_time_step in dis_df.index.levels[0]:\n",
    "    # Loop over the number of time steps in the future to be calculating\n",
    "    # displacement for.\n",
    "    # Don't do last time steps for displacement dataframe.  Can only look so many\n",
    "    # time steps into the future before running out of data.\n",
    "    if curr_time_step < (max(dis_df.index.levels[0]) - num_ts_to_predict):\n",
    "        for num_ts_in_future in range(1, num_ts_to_predict + 1):\n",
    "            col_title_x = \"dis_x_\" + str(num_ts_in_future)\n",
    "            col_title_y = \"dis_y_\" + str(num_ts_in_future)\n",
    "            dis_df.loc[idx[curr_time_step, :], [col_title_x, col_title_y]] = (\n",
    "                pos_df.loc[curr_time_step + num_ts_in_future] \n",
    "                - pos_df.loc[curr_time_step]\n",
    "            ).values\n",
    "\n",
    "# Drop the time steps that could not be used for calculating displacecment.\n",
    "# Create list of time steps to drop.\n",
    "beg_drop_index = max(dis_df.index.levels[0]) - num_ts_to_predict\n",
    "end_drop_index = max(dis_df.index.levels[0]) + 1\n",
    "drop_list = list(range(int(beg_drop_index), int(end_drop_index)))\n",
    "# Drop the time steps from the displacement dataframe.\n",
    "dis_df.drop(drop_list, level=0, inplace=True)\n",
    "# Ouput the new dataframe\n",
    "dis_df.head(15)"
   ]
  },
  {
   "cell_type": "markdown",
   "metadata": {},
   "source": [
    "# Aggregate the Velocity Data"
   ]
  },
  {
   "cell_type": "markdown",
   "metadata": {},
   "source": [
    "Need to aggregate the velocity data so we know what the velocity of each body was at each time step and what it should be at the future, predicted time steps."
   ]
  },
  {
   "cell_type": "code",
   "execution_count": null,
   "metadata": {},
   "outputs": [],
   "source": [
    "v_raw"
   ]
  },
  {
   "cell_type": "code",
   "execution_count": null,
   "metadata": {},
   "outputs": [],
   "source": [
    "# Construct the velocity dataframe from the raw simulator velocity output data.\n",
    "# Get the size of each dimension in numpy array.\n",
    "# m-> the number of time steps in the simulation.\n",
    "# n-> the number of bodies in the simulation.\n",
    "# r-> number of dimensions in the vector holding the acceleration, displacement, etc.\n",
    "vel_m,vel_n,vel_r = v_raw.shape\n",
    "# Stack the XY or XYZ arrays of each body into columns, removing a dimension.\n",
    "# np.column_stack() -> takes a sequence of 1D arrays and stacks them as columns in a 2D matrix.\n",
    "# np.arange() provides evenly spaced values that repeat n times.  The new index.\n",
    "# \n",
    "vel_arr = np.column_stack(\n",
    "    (np.repeat(np.arange(vel_m),vel_n), \n",
    "     np.tile(np.arange(0,vel_n,1),vel_m), \n",
    "     v_raw.reshape(vel_m*vel_n,-1))\n",
    ")\n",
    "# Create dataframe from stacked column array.\n",
    "vel_df = pd.DataFrame(vel_arr)\n",
    "# Use df.groupby() to group by time step or planent and create MultiIndex for easy data referencing.\n",
    "vel_df = vel_df.groupby([0,1]).mean()\n",
    "vel_df.index.names = ['time_step', 'body']\n",
    "vel_df.columns = ['vel_x', 'vel_y']\n",
    "vel_df.head(20)"
   ]
  },
  {
   "cell_type": "markdown",
   "metadata": {},
   "source": [
    "Now need to add columns that will predict what the velocities will be in the future."
   ]
  },
  {
   "cell_type": "code",
   "execution_count": null,
   "metadata": {},
   "outputs": [],
   "source": [
    "# Add columns to end of velocity dataframe using for loop.\n",
    "for i in range(1,num_ts_to_predict+1):\n",
    "    col_title_x = \"vel_x_\" + str(i)\n",
    "    col_title_y = \"vel_y_\" + str(i)\n",
    "    vel_df[col_title_x] = None\n",
    "    vel_df[col_title_y] = None\n",
    "# Keeping velocities at respective time steps in place.\n",
    "vel_df.head(15)"
   ]
  },
  {
   "cell_type": "markdown",
   "metadata": {},
   "source": [
    "Now we can grab velocities from future time steps and add them to the new columns."
   ]
  },
  {
   "cell_type": "code",
   "execution_count": null,
   "metadata": {},
   "outputs": [],
   "source": [
    "# Indexer to help with slicing dataframe.\n",
    "idx = pd.IndexSlice\n",
    "# Loop over all the time steps\n",
    "for curr_time_step in vel_df.index.levels[0]:\n",
    "    # Loop over the number of time steps in the future to be grabbing\n",
    "    # velocities from.\n",
    "    # Don't do last time steps for displacement dataframe.  Can only look so many\n",
    "    # time steps into the future before running out of data.\n",
    "    if curr_time_step < (max(vel_df.index.levels[0]) - num_ts_to_predict):\n",
    "        for num_ts_in_future in range(1, num_ts_to_predict + 1):\n",
    "            col_title_x = \"vel_x_\" + str(num_ts_in_future)\n",
    "            col_title_y = \"vel_y_\" + str(num_ts_in_future)\n",
    "            vel_df.loc[idx[curr_time_step, :], [col_title_x, col_title_y]] = (\n",
    "                vel_df.loc[idx[curr_time_step + num_ts_in_future, :], ['vel_x','vel_y']]\n",
    "            ).values\n",
    "\n",
    "# Drop the time steps that could not be used for calculating displacecment.\n",
    "# Create list of time steps to drop.\n",
    "beg_drop_index = max(vel_df.index.levels[0]) - num_ts_to_predict\n",
    "end_drop_index = max(vel_df.index.levels[0]) + 1\n",
    "drop_list = list(range(int(beg_drop_index), int(end_drop_index)))\n",
    "# Drop the time steps from the displacement dataframe.\n",
    "vel_df.drop(drop_list, level=0, inplace=True)\n",
    "# Ouput the new dataframe\n",
    "vel_df.head(15)"
   ]
  },
  {
   "cell_type": "markdown",
   "metadata": {},
   "source": [
    "At this point, we have aggregated all the velocities for the future time steps we want to predict."
   ]
  },
  {
   "cell_type": "markdown",
   "metadata": {},
   "source": [
    "# Read In and Reformat Acceleration Data"
   ]
  },
  {
   "cell_type": "markdown",
   "metadata": {},
   "source": [
    "Need to read in acceleration data to dataframe format so it is compatible for merging with all the other displacement, velocity, and mass data."
   ]
  },
  {
   "cell_type": "code",
   "execution_count": null,
   "metadata": {},
   "outputs": [],
   "source": [
    "a_raw"
   ]
  },
  {
   "cell_type": "code",
   "execution_count": null,
   "metadata": {},
   "outputs": [],
   "source": [
    "# Construct the acceleration dataframe from the raw simulator velocity output data.\n",
    "# Get the size of each dimension in numpy array.\n",
    "# m-> the number of time steps in the simulation.\n",
    "# n-> the number of bodies in the simulation.\n",
    "# r-> number of dimensions in the vector holding the acceleration, displacement, etc.\n",
    "acc_m,acc_n,acc_r = a_raw.shape\n",
    "# Stack the XY or XYZ arrays of each body into columns, removing a dimension.\n",
    "# np.column_stack() -> takes a sequence of 1D arrays and stacks them as columns in a 2D matrix.\n",
    "# np.arange() provides evenly spaced values that repeat n times.  The new index.\n",
    "# Had to add 1 to arange to go from 1 to 79 instead of 0.\n",
    "acc_arr = np.column_stack(\n",
    "    (np.repeat(np.arange(1, acc_m+1, 1),acc_n), \n",
    "     np.tile(np.arange(0,acc_n,1),acc_m), \n",
    "     a_raw.reshape(acc_m*acc_n,-1))\n",
    ")\n",
    "# Create dataframe from stacked column array.\n",
    "acc_df = pd.DataFrame(acc_arr)\n",
    "# Use df.groupby() to group by time step or planent and create MultiIndex for easy data referencing.\n",
    "acc_df = acc_df.groupby([0,1]).mean()\n",
    "acc_df.index.names = ['time_step', 'body']\n",
    "acc_df.columns = ['acc_x', 'acc_y']\n",
    "acc_df.head(15)"
   ]
  },
  {
   "cell_type": "markdown",
   "metadata": {},
   "source": [
    "Need to drop time steps that could not be used in previous dataframes since they went beyond the ability to calculate displacement for the time steps we want to predict. \\\n",
    "\n",
    "Need to keep in mind that there is no acceleration at time step 0.  Acceleration only exists after "
   ]
  },
  {
   "cell_type": "code",
   "execution_count": null,
   "metadata": {},
   "outputs": [],
   "source": [
    "# Drop the time steps that could not be used for calculating displacecment.\n",
    "# Create list of time steps to drop.\n",
    "beg_drop_index = max(acc_df.index.levels[0]) - num_ts_to_predict\n",
    "end_drop_index = max(acc_df.index.levels[0]) + 1\n",
    "drop_list = list(range(int(beg_drop_index), int(end_drop_index)))\n",
    "# Drop the time steps from the displacement dataframe.\n",
    "acc_df.drop(drop_list, level=0, inplace=True)\n",
    "# Ouput the new dataframe\n",
    "acc_df.head(15)"
   ]
  },
  {
   "cell_type": "markdown",
   "metadata": {},
   "source": [
    "# Read In and Reformat Mass Data"
   ]
  },
  {
   "cell_type": "markdown",
   "metadata": {},
   "source": [
    "Mass data needs to be reformatted to fit the MultiIndex of the acceleration, velocity, and displacement dataframes."
   ]
  },
  {
   "cell_type": "code",
   "execution_count": null,
   "metadata": {},
   "outputs": [],
   "source": [
    "m_raw = m_raw.reshape(m_raw.shape[0])\n",
    "m_raw.shape"
   ]
  },
  {
   "cell_type": "code",
   "execution_count": null,
   "metadata": {},
   "outputs": [],
   "source": [
    "m_raw"
   ]
  },
  {
   "cell_type": "markdown",
   "metadata": {},
   "source": [
    "Will need to repeat array of body masses by the number of time steps and create the "
   ]
  },
  {
   "cell_type": "code",
   "execution_count": null,
   "metadata": {},
   "outputs": [],
   "source": [
    "# Construct the mass dataframe from the raw simulator mass output data.\n",
    "# Get the size of each dimension in numpy array.\n",
    "# m-> the number of time steps in the simulation.\n",
    "# n-> the number of bodies in the simulation.\n",
    "# r-> number of dimensions in the vector holding the acceleration, displacement, etc.\n",
    "mass_n = m_raw.shape[0]\n",
    "# Stack the Mass column with the indexing columns.  Mass column will be repeated by the number\n",
    "# of time steps.\n",
    "# np.column_stack() -> takes a sequence of 1D arrays and stacks them as columns in a 2D matrix.\n",
    "# np.arange() provides evenly spaced values that repeat n times.  The new index.\n",
    "# Using displacement dataframe dimensions to copy the masses enough.\n",
    "mass_arr = np.column_stack(\n",
    "     (np.repeat(np.arange(0, vel_m, 1),mass_n), \n",
    "     np.tile(np.arange(0,mass_n,1), vel_m),\n",
    "     np.tile(m_raw, vel_m))\n",
    ")\n",
    "# Create dataframe from stacked column array.\n",
    "mass_df = pd.DataFrame(mass_arr)\n",
    "# Use df.groupby() to group by time step or planent and create MultiIndex for easy data referencing.\n",
    "mass_df = mass_df.groupby([0,1]).mean()\n",
    "mass_df.index.names = ['time_step', 'body']\n",
    "mass_df.columns = ['mass']\n",
    "mass_df.head(15)"
   ]
  },
  {
   "cell_type": "markdown",
   "metadata": {},
   "source": [
    "Remove the time steps not able to be calculated in displacement and velocity dataframes."
   ]
  },
  {
   "cell_type": "code",
   "execution_count": null,
   "metadata": {},
   "outputs": [],
   "source": [
    "# Drop the time steps that could not be used for calculating displacecment.\n",
    "# Create list of time steps to drop.\n",
    "beg_drop_index = max(mass_df.index.levels[0]) - num_ts_to_predict\n",
    "end_drop_index = max(mass_df.index.levels[0]) + 1\n",
    "drop_list = list(range(int(beg_drop_index), int(end_drop_index)))\n",
    "# Drop the time steps from the displacement dataframe.\n",
    "mass_df.drop(drop_list, level=0, inplace=True)\n",
    "# Ouput the new dataframe\n",
    "mass_df.head(15)"
   ]
  },
  {
   "cell_type": "markdown",
   "metadata": {},
   "source": [
    "# Merge Mass, Acceleration, Velocity, and Displacement Data"
   ]
  },
  {
   "cell_type": "markdown",
   "metadata": {},
   "source": [
    "Start with the mass and merge it with the acceleration dataframe."
   ]
  },
  {
   "cell_type": "code",
   "execution_count": null,
   "metadata": {},
   "outputs": [],
   "source": [
    "merged_data = mass_df.copy(deep=True)\n",
    "merged_data = pd.merge(merged_data, acc_df, left_index=True, right_index=True, how='outer')\n",
    "merged_data.head(15)"
   ]
  },
  {
   "cell_type": "markdown",
   "metadata": {},
   "source": [
    "Merge in the velocity data."
   ]
  },
  {
   "cell_type": "code",
   "execution_count": null,
   "metadata": {},
   "outputs": [],
   "source": [
    "merged_data = pd.merge(merged_data, vel_df, left_index=True, right_index=True, how='outer')\n",
    "merged_data.head(15)"
   ]
  },
  {
   "cell_type": "markdown",
   "metadata": {},
   "source": [
    "Merge in the displacement data."
   ]
  },
  {
   "cell_type": "code",
   "execution_count": null,
   "metadata": {},
   "outputs": [],
   "source": [
    "merged_data = pd.merge(merged_data, dis_df, left_index=True, right_index=True, how='outer')\n",
    "merged_data.head(15)"
   ]
  },
  {
   "cell_type": "markdown",
   "metadata": {},
   "source": [
    "Now we will rearrange columns to make the format easier to understand."
   ]
  },
  {
   "cell_type": "code",
   "execution_count": null,
   "metadata": {},
   "outputs": [],
   "source": [
    "# Create list of what the column order should be.\n",
    "cols = []\n",
    "cols.extend(['mass', 'acc_x', 'acc_y', 'vel_x', 'vel_y'])\n",
    "# Loop over all the time steps we wanted to predict and rearrange the columns\n",
    "# accordingly\n",
    "for i in range(1,num_ts_to_predict+1):\n",
    "    cols.append('dis_x_' + str(i))\n",
    "    cols.append('dis_y_' + str(i))\n",
    "    cols.append('vel_x_' + str(i))\n",
    "    cols.append('vel_y_' + str(i))\n",
    "# Rearrange columns using the create columns list.\n",
    "merged_data = merged_data[cols]\n",
    "# Drop the first time step for which there is no acceleration data.\n",
    "merged_data.drop(0, level=0, inplace=True)\n",
    "merged_data.head(15)"
   ]
  },
  {
   "cell_type": "markdown",
   "metadata": {},
   "source": [
    "# Create Body Time Series Data Format"
   ]
  },
  {
   "cell_type": "markdown",
   "metadata": {},
   "source": [
    "Create dataframe that has the time series associated with each body.  Should be able to just swap indexes around."
   ]
  },
  {
   "cell_type": "code",
   "execution_count": null,
   "metadata": {},
   "outputs": [],
   "source": [
    "merged_data_time_series = merged_data.copy(deep=True)"
   ]
  },
  {
   "cell_type": "code",
   "execution_count": null,
   "metadata": {},
   "outputs": [],
   "source": [
    "merged_data_time_series = merged_data_time_series.swaplevel('time_step', 'body').sort_index(level=0)\n",
    "merged_data_time_series.head(15)"
   ]
  },
  {
   "cell_type": "markdown",
   "metadata": {},
   "source": [
    "# Attempt Converting Merged Datas to Numpy Arrays and Save as Both Pd dataframes and Np Arrays"
   ]
  },
  {
   "cell_type": "code",
   "execution_count": null,
   "metadata": {},
   "outputs": [],
   "source": [
    "merged_data.to_numpy().shape"
   ]
  },
  {
   "cell_type": "code",
   "execution_count": null,
   "metadata": {},
   "outputs": [],
   "source": [
    "dim0 = len(merged_data.index.get_level_values(0).unique())\n",
    "dim1 = len(merged_data.index.get_level_values(1).unique())\n",
    "dim2 = merged_data.shape[1]\n",
    "merged_data_ndarray = merged_data.to_numpy().reshape((dim0, dim1, dim2))\n",
    "merged_data_ndarray[0,0]"
   ]
  },
  {
   "cell_type": "code",
   "execution_count": null,
   "metadata": {},
   "outputs": [],
   "source": [
    "dim0 = len(merged_data_time_series.index.get_level_values(0).unique())\n",
    "dim1 = len(merged_data_time_series.index.get_level_values(1).unique())\n",
    "dim2 = merged_data.shape[1]\n",
    "merged_data_time_series_ndarray = merged_data_time_series.to_numpy().reshape((dim0, dim1, dim2))\n",
    "merged_data_time_series_ndarray[0,5]"
   ]
  },
  {
   "cell_type": "markdown",
   "metadata": {},
   "source": [
    "## Save the Numpy Arrays and Pandas Dataframes"
   ]
  },
  {
   "cell_type": "code",
   "execution_count": null,
   "metadata": {},
   "outputs": [],
   "source": [
    "# Set the output directory.\n",
    "out_dir = 'output/'"
   ]
  },
  {
   "cell_type": "markdown",
   "metadata": {},
   "source": [
    "Save the dataframes by pickling them."
   ]
  },
  {
   "cell_type": "code",
   "execution_count": null,
   "metadata": {},
   "outputs": [],
   "source": [
    "merged_data.to_pickle(out_dir + 'sim_data_df-ts-body.pkl')\n",
    "merged_data_time_series.to_pickle(out_dir + 'sim_data_df-body-ts.pkl')"
   ]
  },
  {
   "cell_type": "markdown",
   "metadata": {},
   "source": [
    "Save the dataframes to XLSX files to view in Excel"
   ]
  },
  {
   "cell_type": "code",
   "execution_count": null,
   "metadata": {},
   "outputs": [],
   "source": [
    "merged_data.to_excel(out_dir + 'sim_data_df-ts-body.xlsx')\n",
    "merged_data_time_series.to_excel(out_dir + 'sim_data_df-body-ts.xlsx')"
   ]
  },
  {
   "cell_type": "markdown",
   "metadata": {},
   "source": [
    "Save the numpy arrays by using numpy's saving function."
   ]
  },
  {
   "cell_type": "code",
   "execution_count": null,
   "metadata": {},
   "outputs": [],
   "source": [
    "np.save(out_dir + 'sim_data_np-ts-body.npy', merged_data_ndarray)\n",
    "np.save(out_dir + 'sim_data_np-body-ts.npy', merged_data_time_series_ndarray)"
   ]
  },
  {
   "cell_type": "code",
   "execution_count": null,
   "metadata": {},
   "outputs": [],
   "source": []
  }
 ],
 "metadata": {
  "kernelspec": {
   "display_name": "Python 3",
   "language": "python",
   "name": "python3"
  },
  "language_info": {
   "codemirror_mode": {
    "name": "ipython",
    "version": 3
   },
   "file_extension": ".py",
   "mimetype": "text/x-python",
   "name": "python",
   "nbconvert_exporter": "python",
   "pygments_lexer": "ipython3",
   "version": "3.8.3"
  }
 },
 "nbformat": 4,
 "nbformat_minor": 4
}
