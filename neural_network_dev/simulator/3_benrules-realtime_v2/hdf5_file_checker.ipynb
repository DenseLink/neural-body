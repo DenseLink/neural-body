{
 "cells": [
  {
   "cell_type": "markdown",
   "metadata": {},
   "source": [
    "This notebook is for opening simulator HDF5 files and checking the numpy arrays stored in those files."
   ]
  },
  {
   "cell_type": "code",
   "execution_count": 1,
   "metadata": {},
   "outputs": [],
   "source": [
    "import numpy as np\n",
    "import pandas as pd\n",
    "import h5py"
   ]
  },
  {
   "cell_type": "code",
   "execution_count": 2,
   "metadata": {},
   "outputs": [],
   "source": [
    "pd.set_option('display.float_format', lambda x: '%.5f' % x)"
   ]
  },
  {
   "cell_type": "code",
   "execution_count": 3,
   "metadata": {},
   "outputs": [],
   "source": [
    "# Set the location of the sim archive\n",
    "sim_archive_loc = 'sim_archives/sim_archive.hdf5'"
   ]
  },
  {
   "cell_type": "code",
   "execution_count": 4,
   "metadata": {},
   "outputs": [],
   "source": [
    "# Try reading from the file into a new cache.\n",
    "read_cache = None\n",
    "with h5py.File(sim_archive_loc, 'r') as f:\n",
    "    dset = f['planets/loc_archive']\n",
    "    read_cache = dset[()]"
   ]
  },
  {
   "cell_type": "code",
   "execution_count": 5,
   "metadata": {},
   "outputs": [
    {
     "data": {
      "text/plain": [
       "(484, 10, 3)"
      ]
     },
     "execution_count": 5,
     "metadata": {},
     "output_type": "execute_result"
    }
   ],
   "source": [
    "read_cache.shape"
   ]
  },
  {
   "cell_type": "code",
   "execution_count": 11,
   "metadata": {},
   "outputs": [
    {
     "data": {
      "text/html": [
       "<div>\n",
       "<style scoped>\n",
       "    .dataframe tbody tr th:only-of-type {\n",
       "        vertical-align: middle;\n",
       "    }\n",
       "\n",
       "    .dataframe tbody tr th {\n",
       "        vertical-align: top;\n",
       "    }\n",
       "\n",
       "    .dataframe thead th {\n",
       "        text-align: right;\n",
       "    }\n",
       "</style>\n",
       "<table border=\"1\" class=\"dataframe\">\n",
       "  <thead>\n",
       "    <tr style=\"text-align: right;\">\n",
       "      <th></th>\n",
       "      <th>0</th>\n",
       "      <th>1</th>\n",
       "      <th>2</th>\n",
       "    </tr>\n",
       "  </thead>\n",
       "  <tbody>\n",
       "    <tr>\n",
       "      <th>0</th>\n",
       "      <td>0.00000</td>\n",
       "      <td>0.00000</td>\n",
       "      <td>0.00000</td>\n",
       "    </tr>\n",
       "    <tr>\n",
       "      <th>1</th>\n",
       "      <td>3757110272.00000</td>\n",
       "      <td>56867266560.00000</td>\n",
       "      <td>0.00000</td>\n",
       "    </tr>\n",
       "    <tr>\n",
       "      <th>2</th>\n",
       "      <td>2799700480.00000</td>\n",
       "      <td>109964353536.00000</td>\n",
       "      <td>0.00000</td>\n",
       "    </tr>\n",
       "    <tr>\n",
       "      <th>3</th>\n",
       "      <td>2399898624.00000</td>\n",
       "      <td>149980839936.00000</td>\n",
       "      <td>0.00000</td>\n",
       "    </tr>\n",
       "    <tr>\n",
       "      <th>4</th>\n",
       "      <td>1919974784.00000</td>\n",
       "      <td>219991080960.00000</td>\n",
       "      <td>0.00000</td>\n",
       "    </tr>\n",
       "    <tr>\n",
       "      <th>5</th>\n",
       "      <td>1040000000.00000</td>\n",
       "      <td>770000027648.00000</td>\n",
       "      <td>0.00000</td>\n",
       "    </tr>\n",
       "    <tr>\n",
       "      <th>6</th>\n",
       "      <td>720000000.00000</td>\n",
       "      <td>1399999954944.00000</td>\n",
       "      <td>0.00000</td>\n",
       "    </tr>\n",
       "    <tr>\n",
       "      <th>7</th>\n",
       "      <td>546800000.00000</td>\n",
       "      <td>2799999909888.00000</td>\n",
       "      <td>0.00000</td>\n",
       "    </tr>\n",
       "    <tr>\n",
       "      <th>8</th>\n",
       "      <td>438160000.00000</td>\n",
       "      <td>4500000079872.00000</td>\n",
       "      <td>0.00000</td>\n",
       "    </tr>\n",
       "    <tr>\n",
       "      <th>9</th>\n",
       "      <td>379840000.00000</td>\n",
       "      <td>3700000030720.00000</td>\n",
       "      <td>0.00000</td>\n",
       "    </tr>\n",
       "  </tbody>\n",
       "</table>\n",
       "</div>"
      ],
      "text/plain": [
       "                 0                   1       2\n",
       "0          0.00000             0.00000 0.00000\n",
       "1 3757110272.00000   56867266560.00000 0.00000\n",
       "2 2799700480.00000  109964353536.00000 0.00000\n",
       "3 2399898624.00000  149980839936.00000 0.00000\n",
       "4 1919974784.00000  219991080960.00000 0.00000\n",
       "5 1040000000.00000  770000027648.00000 0.00000\n",
       "6  720000000.00000 1399999954944.00000 0.00000\n",
       "7  546800000.00000 2799999909888.00000 0.00000\n",
       "8  438160000.00000 4500000079872.00000 0.00000\n",
       "9  379840000.00000 3700000030720.00000 0.00000"
      ]
     },
     "execution_count": 11,
     "metadata": {},
     "output_type": "execute_result"
    }
   ],
   "source": [
    "pd.DataFrame(read_cache[100])"
   ]
  },
  {
   "cell_type": "code",
   "execution_count": 7,
   "metadata": {},
   "outputs": [
    {
     "data": {
      "text/plain": [
       "array([[0.0000000e+00, 0.0000000e+00, 0.0000000e+00],\n",
       "       [1.8796388e+09, 5.6966484e+10, 0.0000000e+00],\n",
       "       [1.3999624e+09, 1.0999100e+11, 0.0000000e+00],\n",
       "       [1.1999873e+09, 1.4999518e+11, 0.0000000e+00],\n",
       "       [9.5999693e+08, 2.1999775e+11, 0.0000000e+00],\n",
       "       [5.2000000e+08, 7.7000003e+11, 0.0000000e+00],\n",
       "       [3.6000000e+08, 1.4000000e+12, 0.0000000e+00],\n",
       "       [2.7340000e+08, 2.7999999e+12, 0.0000000e+00],\n",
       "       [2.1908000e+08, 4.5000001e+12, 0.0000000e+00],\n",
       "       [1.8992000e+08, 3.7000000e+12, 0.0000000e+00]], dtype=float32)"
      ]
     },
     "execution_count": 7,
     "metadata": {},
     "output_type": "execute_result"
    }
   ],
   "source": [
    "read_cache[50]"
   ]
  },
  {
   "cell_type": "code",
   "execution_count": 8,
   "metadata": {},
   "outputs": [
    {
     "data": {
      "text/plain": [
       "array([0.0e+00, 0.0e+00, 0.0e+00, 0.0e+00, 5.7e+10, 0.0e+00, 0.0e+00,\n",
       "       1.1e+11, 0.0e+00, 0.0e+00, 1.5e+11, 0.0e+00, 0.0e+00, 2.2e+11,\n",
       "       0.0e+00, 0.0e+00, 7.7e+11, 0.0e+00, 0.0e+00, 1.4e+12, 0.0e+00,\n",
       "       0.0e+00, 2.8e+12, 0.0e+00, 0.0e+00, 4.5e+12, 0.0e+00, 0.0e+00,\n",
       "       3.7e+12, 0.0e+00], dtype=float32)"
      ]
     },
     "execution_count": 8,
     "metadata": {},
     "output_type": "execute_result"
    }
   ],
   "source": [
    "read_cache[0].reshape((-1,))"
   ]
  }
 ],
 "metadata": {
  "kernelspec": {
   "display_name": "Python 3",
   "language": "python",
   "name": "python3"
  },
  "language_info": {
   "codemirror_mode": {
    "name": "ipython",
    "version": 3
   },
   "file_extension": ".py",
   "mimetype": "text/x-python",
   "name": "python",
   "nbconvert_exporter": "python",
   "pygments_lexer": "ipython3",
   "version": "3.7.7"
  }
 },
 "nbformat": 4,
 "nbformat_minor": 4
}
