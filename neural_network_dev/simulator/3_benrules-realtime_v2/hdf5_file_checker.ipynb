{
 "cells": [
  {
   "cell_type": "markdown",
   "metadata": {},
   "source": [
    "This notebook is for opening simulator HDF5 files and checking the numpy arrays stored in those files."
   ]
  },
  {
   "cell_type": "code",
   "execution_count": 1,
   "metadata": {},
   "outputs": [],
   "source": [
    "import numpy as np\n",
    "import pandas as pd\n",
    "import h5py"
   ]
  },
  {
   "cell_type": "code",
   "execution_count": 2,
   "metadata": {},
   "outputs": [],
   "source": [
    "pd.set_option('display.float_format', lambda x: '%.5f' % x)"
   ]
  },
  {
   "cell_type": "code",
   "execution_count": 3,
   "metadata": {},
   "outputs": [],
   "source": [
    "# Set the location of the sim archive\n",
    "sim_archive_loc = 'sim_archives/sim_archive.hdf5'"
   ]
  },
  {
   "cell_type": "code",
   "execution_count": 4,
   "metadata": {},
   "outputs": [],
   "source": [
    "# Try reading from the file into a new cache.\n",
    "read_cache = None\n",
    "with h5py.File(sim_archive_loc, 'r') as f:\n",
    "    dset = f['planets/loc_archive']\n",
    "    read_cache = dset[()]"
   ]
  },
  {
   "cell_type": "code",
   "execution_count": 5,
   "metadata": {},
   "outputs": [
    {
     "data": {
      "text/plain": [
       "(200, 10, 3)"
      ]
     },
     "execution_count": 5,
     "metadata": {},
     "output_type": "execute_result"
    }
   ],
   "source": [
    "read_cache.shape"
   ]
  },
  {
   "cell_type": "code",
   "execution_count": 8,
   "metadata": {},
   "outputs": [
    {
     "data": {
      "text/html": [
       "<div>\n",
       "<style scoped>\n",
       "    .dataframe tbody tr th:only-of-type {\n",
       "        vertical-align: middle;\n",
       "    }\n",
       "\n",
       "    .dataframe tbody tr th {\n",
       "        vertical-align: top;\n",
       "    }\n",
       "\n",
       "    .dataframe thead th {\n",
       "        text-align: right;\n",
       "    }\n",
       "</style>\n",
       "<table border=\"1\" class=\"dataframe\">\n",
       "  <thead>\n",
       "    <tr style=\"text-align: right;\">\n",
       "      <th></th>\n",
       "      <th>0</th>\n",
       "      <th>1</th>\n",
       "      <th>2</th>\n",
       "    </tr>\n",
       "  </thead>\n",
       "  <tbody>\n",
       "    <tr>\n",
       "      <th>0</th>\n",
       "      <td>0.04939</td>\n",
       "      <td>241.29590</td>\n",
       "      <td>0.00000</td>\n",
       "    </tr>\n",
       "    <tr>\n",
       "      <th>1</th>\n",
       "      <td>939954816.00000</td>\n",
       "      <td>56991744000.00000</td>\n",
       "      <td>0.00000</td>\n",
       "    </tr>\n",
       "    <tr>\n",
       "      <th>2</th>\n",
       "      <td>699995328.00000</td>\n",
       "      <td>109997785088.00000</td>\n",
       "      <td>0.00000</td>\n",
       "    </tr>\n",
       "    <tr>\n",
       "      <th>3</th>\n",
       "      <td>599998400.00000</td>\n",
       "      <td>149998813184.00000</td>\n",
       "      <td>0.00000</td>\n",
       "    </tr>\n",
       "    <tr>\n",
       "      <th>4</th>\n",
       "      <td>479999584.00000</td>\n",
       "      <td>219999453184.00000</td>\n",
       "      <td>0.00000</td>\n",
       "    </tr>\n",
       "    <tr>\n",
       "      <th>5</th>\n",
       "      <td>260000000.00000</td>\n",
       "      <td>769999962112.00000</td>\n",
       "      <td>0.00000</td>\n",
       "    </tr>\n",
       "    <tr>\n",
       "      <th>6</th>\n",
       "      <td>180000000.00000</td>\n",
       "      <td>1399999954944.00000</td>\n",
       "      <td>0.00000</td>\n",
       "    </tr>\n",
       "    <tr>\n",
       "      <th>7</th>\n",
       "      <td>136700000.00000</td>\n",
       "      <td>2799999909888.00000</td>\n",
       "      <td>0.00000</td>\n",
       "    </tr>\n",
       "    <tr>\n",
       "      <th>8</th>\n",
       "      <td>109540000.00000</td>\n",
       "      <td>4500000079872.00000</td>\n",
       "      <td>0.00000</td>\n",
       "    </tr>\n",
       "    <tr>\n",
       "      <th>9</th>\n",
       "      <td>94960000.00000</td>\n",
       "      <td>3700000030720.00000</td>\n",
       "      <td>0.00000</td>\n",
       "    </tr>\n",
       "  </tbody>\n",
       "</table>\n",
       "</div>"
      ],
      "text/plain": [
       "                0                   1       2\n",
       "0         0.04939           241.29590 0.00000\n",
       "1 939954816.00000   56991744000.00000 0.00000\n",
       "2 699995328.00000  109997785088.00000 0.00000\n",
       "3 599998400.00000  149998813184.00000 0.00000\n",
       "4 479999584.00000  219999453184.00000 0.00000\n",
       "5 260000000.00000  769999962112.00000 0.00000\n",
       "6 180000000.00000 1399999954944.00000 0.00000\n",
       "7 136700000.00000 2799999909888.00000 0.00000\n",
       "8 109540000.00000 4500000079872.00000 0.00000\n",
       "9  94960000.00000 3700000030720.00000 0.00000"
      ]
     },
     "execution_count": 8,
     "metadata": {},
     "output_type": "execute_result"
    }
   ],
   "source": [
    "pd.DataFrame(read_cache[199])"
   ]
  },
  {
   "cell_type": "code",
   "execution_count": 14,
   "metadata": {},
   "outputs": [
    {
     "data": {
      "text/plain": [
       "array([[0.0000000e+00, 1.2004774e-02, 0.0000000e+00],\n",
       "       [4.7000000e+06, 5.7000002e+10, 0.0000000e+00],\n",
       "       [3.5000000e+06, 1.1000000e+11, 0.0000000e+00],\n",
       "       [3.0000000e+06, 1.4999999e+11, 0.0000000e+00],\n",
       "       [2.4000000e+06, 2.1999999e+11, 0.0000000e+00],\n",
       "       [1.3000000e+06, 7.7000003e+11, 0.0000000e+00],\n",
       "       [9.0000000e+05, 1.4000000e+12, 0.0000000e+00],\n",
       "       [6.8350000e+05, 2.7999999e+12, 0.0000000e+00],\n",
       "       [5.4770000e+05, 4.5000001e+12, 0.0000000e+00],\n",
       "       [4.7480000e+05, 3.7000000e+12, 0.0000000e+00]], dtype=float32)"
      ]
     },
     "execution_count": 14,
     "metadata": {},
     "output_type": "execute_result"
    }
   ],
   "source": [
    "read_cache[0]"
   ]
  },
  {
   "cell_type": "code",
   "execution_count": 13,
   "metadata": {},
   "outputs": [
    {
     "data": {
      "text/plain": [
       "array([0.0000000e+00, 1.2004774e-02, 0.0000000e+00, 4.7000000e+06,\n",
       "       5.7000002e+10, 0.0000000e+00, 3.5000000e+06, 1.1000000e+11,\n",
       "       0.0000000e+00, 3.0000000e+06, 1.4999999e+11, 0.0000000e+00,\n",
       "       2.4000000e+06, 2.1999999e+11, 0.0000000e+00, 1.3000000e+06,\n",
       "       7.7000003e+11, 0.0000000e+00, 9.0000000e+05, 1.4000000e+12,\n",
       "       0.0000000e+00, 6.8350000e+05, 2.7999999e+12, 0.0000000e+00,\n",
       "       5.4770000e+05, 4.5000001e+12, 0.0000000e+00, 4.7480000e+05,\n",
       "       3.7000000e+12, 0.0000000e+00], dtype=float32)"
      ]
     },
     "execution_count": 13,
     "metadata": {},
     "output_type": "execute_result"
    }
   ],
   "source": [
    "read_cache[0].reshape((-1,))"
   ]
  }
 ],
 "metadata": {
  "kernelspec": {
   "display_name": "Python 3",
   "language": "python",
   "name": "python3"
  },
  "language_info": {
   "codemirror_mode": {
    "name": "ipython",
    "version": 3
   },
   "file_extension": ".py",
   "mimetype": "text/x-python",
   "name": "python",
   "nbconvert_exporter": "python",
   "pygments_lexer": "ipython3",
   "version": "3.7.7"
  }
 },
 "nbformat": 4,
 "nbformat_minor": 4
}
